{
 "cells": [
  {
   "cell_type": "markdown",
   "metadata": {},
   "source": [
    "<a id='top'></a>"
   ]
  },
  {
   "cell_type": "markdown",
   "metadata": {},
   "source": [
    "# Deliveroo “Rider Get Rider” Case Study\n",
    "### By Edd Webster\n",
    "Notebook last updated: 14/12/2019"
   ]
  },
  {
   "cell_type": "markdown",
   "metadata": {},
   "source": [
    "![title](images/deliveroologo3.png)"
   ]
  },
  {
   "cell_type": "markdown",
   "metadata": {},
   "source": [
    "Click [here](#section5) to jump straight to the Exploratory Data Analysis section where the questions are the brief are asked, skipping the [Task Brief](#section2), [Data Sources](#section3), and [Data Engineering](#section4) sections. Or click [here](#section6) to jump straight to the Conclusion."
   ]
  },
  {
   "cell_type": "markdown",
   "metadata": {},
   "source": [
    "## Introduction\n",
    "This notebook is an Exploratory Data Analysis (EDA) of Rider data for [Deliveroo](https://deliveroo.co.uk/), analysing the performance of the 'Rider Get Rider' (RGR) scheme, an incentivised referral scheme targeting current Deliveroo Riders, determining whether or not it is successful. The dataset provided is explored and the findings summarised using [pandas](http://pandas.pydata.org/) DataFrames and [Seaborn](https://seaborn.pydata.org/) visualisations.\n",
    "\n",
    "For more information about this notebook and the author, I'm available through all the following channels:\n",
    "*    [EddWebster.com](https://www.eddwebster.com/),\n",
    "*    edd.j.webster@gmail.com,\n",
    "*    [LinkedIn.com/in/eddwebster](https://www.linkedin.com/in/eddwebster/), and\n",
    "*    [GitHub/eddwebster](https://github.com/eddwebster/).\n",
    "\n",
    "The accompanying GitHub repository for this notebook can be found [here](https://github.com/eddwebster/deliveroo) and a static version of this notebook can be found [here](https://nbviewer.jupyter.org/github/eddwebster/deliveroo/blob/master/RGR%20Case%20Study%20-%2014122019.ipynb)."
   ]
  },
  {
   "cell_type": "markdown",
   "metadata": {},
   "source": [
    "## Notebook Contents\n",
    "1.    [Setup](#section1)\n",
    "2.    [Task Brief](#section2)\n",
    "3.    [Data Source](#section3)\n",
    "4.    [Data Engineering](#section4)\n",
    "5.    [Exploratory Data Analysis](#section5)\n",
    "6.    [Summary and Conclusion](#section6)\n",
    "7.    [Next Steps](#section7)\n",
    "8.    [Bibliography](#section8)\n",
    "\n",
    "## Notebook Contents\n",
    "1.    [Notebook Dependencies](#section1)<br>\n",
    "2.    [Task Brief](#section2)<br>\n",
    "      2.1.  [Background Information](#section2.1)<br>\n",
    "      2.2.  [Exercise](#section2.2)<br>\n",
    "3.    [Data Source](#section2)<br>\n",
    "      3.1.  [Introduction](#section3.1)<br>\n",
    "      3.2.  [Data Dictionary](#section3.2)<br>\n",
    "      3.3.  [Initial Data Handling](#section3.3)<br>\n",
    "      3.4.  [Export the Raw DataFrame](#section3.4)<br>\n",
    "4.    [Data Engineering](#section4)<br>\n",
    "      4.1.  [Introduction](#section4.1)<br>\n",
    "5.    [Exploratory Data Analysis (EDA)](#section5)<br>\n",
    "      5.1.  [Identify a table showing how many of each journey are run per day](#section5.1)<br>\n",
    "      5.2.  [Subset the table such that it contains the 16 most common journeys per date](#section5.2)<br>\n",
    "      5.3.  [Identify the day that the timetable was changed *via* a suitably convincing visualisation](#section5.3)<br>\n",
    "6.    [Summary](#section6)<br>\n",
    "7.    [Bibliography](#section7)"
   ]
  },
  {
   "cell_type": "markdown",
   "metadata": {},
   "source": [
    "<a id='section1'></a>"
   ]
  },
  {
   "cell_type": "markdown",
   "metadata": {},
   "source": [
    "## 1. Notebook Setup"
   ]
  },
  {
   "cell_type": "markdown",
   "metadata": {},
   "source": [
    "This notebook was written using [Python 3](https://docs.python.org/3.7/) and requires the following libraries:\n",
    "*    [Jupyter notebooks](https://jupyter.org/) for this interactive computational environment that the project is presented,\n",
    "*    [NumPy](http://www.numpy.org/) for multidimensional array computing,\n",
    "*    [pandas](http://pandas.pydata.org/) for data manipulation and ingestion, and\n",
    "*    [Seaborn](https://seaborn.pydata.org/) for data visualisation.\n",
    "\n",
    "All packages used for this notebook except for BeautifulSoup can be obtained by downloading and installing the [Conda](https://anaconda.org/anaconda/conda) distribution, available on all platforms (Windows, Linux and Mac OSX). Step-by-step guides on how to install Anaconda can be found for Windows [here](https://medium.com/@GalarnykMichael/install-python-on-windows-anaconda-c63c7c3d1444) and Mac [here](https://medium.com/@GalarnykMichael/install-python-on-mac-anaconda-ccd9f2014072), as well as in the Anaconda documentation itself [here](https://docs.anaconda.com/anaconda/install/)."
   ]
  },
  {
   "cell_type": "code",
   "execution_count": 1,
   "metadata": {},
   "outputs": [
    {
     "name": "stdout",
     "output_type": "stream",
     "text": [
      "Setup Complete\n"
     ]
    }
   ],
   "source": [
    "# Import modules\n",
    "\n",
    "# Python ≥3.5 (ideally)\n",
    "import sys\n",
    "assert sys.version_info >= (3, 5)\n",
    "\n",
    "# Import Dependencies\n",
    "%matplotlib inline\n",
    "\n",
    "# Math Operations\n",
    "import numpy as np\n",
    "\n",
    "# Data Preprocessing\n",
    "import pandas as pd\n",
    "import os\n",
    "\n",
    "# Plotting figures\n",
    "import matplotlib.pyplot as plt\n",
    "import seaborn as sns\n",
    "plt.style.use('seaborn-whitegrid')\n",
    "import missingno as msno    # not include with Conda, 'pip install missingno' in the terminal if you don't have it\n",
    "\n",
    "# Display in Jupyter\n",
    "from IPython.display import Image\n",
    "from IPython.core.display import HTML\n",
    "\n",
    "# Ignore warnings\n",
    "import warnings\n",
    "warnings.filterwarnings(action=\"ignore\", message=\"^internal gelsd\")\n",
    "\n",
    "print(\"Setup Complete\")"
   ]
  },
  {
   "cell_type": "markdown",
   "metadata": {},
   "source": [
    "<a id='section2'></a>"
   ]
  },
  {
   "cell_type": "markdown",
   "metadata": {},
   "source": [
    "## 2. Task Brief\n",
    "The following brief has been copied and pasted from the Word document provided and is included in this Jupyter notebook for reference. Click [here](#section3) to skip to the next section where the proper coding begins."
   ]
  },
  {
   "cell_type": "markdown",
   "metadata": {},
   "source": [
    "<a id='section2.1'></a>"
   ]
  },
  {
   "cell_type": "markdown",
   "metadata": {},
   "source": [
    "### Background\n",
    ">At [Deliveroo](https://deliveroo.co.uk/), we want to understand our customers, rider and restaurants in as much detail as possible. As we attempt to build and maintain the optimal rider fleet we utilise a series of marketing channels and schemes to attract new Riders. One of these channels is referred to as ‘Rider Get Rider’ or ‘RGR’, which is an incentivised referral scheme targeting current Deliveroo Riders."
   ]
  },
  {
   "cell_type": "markdown",
   "metadata": {},
   "source": [
    "<a id='section2.2'></a>"
   ]
  },
  {
   "cell_type": "markdown",
   "metadata": {},
   "source": [
    "### The Task\n",
    ">Imagine a senior manager has asked you to analyse the performance of the RGR scheme and determine if it is successful. They have asked you to take them through your findings later that day. Analyse the dataset provided and summarise your findings.\n",
    ">\n",
    ">**The overarching question you should answer with your analysis is:\n",
    ">“Is the RGR scheme successful, and why have you reached that conclusion?”**\n",
    ">*    You should define what success is\n",
    ">*    How has RGR performed compared with other channels?\n",
    ">*    How does rider performance / behaviour vary between the channels?\n",
    ">\n",
    ">Summarise your findings\n",
    ">*    Your summary could be a short document, one tab of a spreadsheet or a notebook\n",
    ">*    Please do not spend time creating a presentation / slide deck\n",
    ">*    It should be logically set out so the reader can follow your main findings and any conclusions you have arrived at\n",
    ">*    It should make appropriate use of visualisations to convey your findings\n",
    ">\n",
    ">*Note - We have provided a clean data set and you do not need to do any data cleaning.*"
   ]
  },
  {
   "cell_type": "markdown",
   "metadata": {},
   "source": [
    "<a id='section3'></a>"
   ]
  },
  {
   "cell_type": "markdown",
   "metadata": {},
   "source": [
    "## 3. Data Source"
   ]
  },
  {
   "cell_type": "markdown",
   "metadata": {},
   "source": [
    "<a id='section3.1'></a>"
   ]
  },
  {
   "cell_type": "markdown",
   "metadata": {},
   "source": [
    "### 3.1.  Overview\n",
    "The fictional sample of weekly data for each rider for their first 24 weeks with Deliveroo. The dataset is one row per rider per week - each rider has 25 rows of data (includes week 0 which is the week they joined).\n",
    "\n",
    "The first task is to import this `csv` file as a [pandas](http://pandas.pydata.org/) DataFrame, from which we can conduct our Exploratory Data Analysis (EDA) in [Section 5](#section5)."
   ]
  },
  {
   "cell_type": "markdown",
   "metadata": {},
   "source": [
    "<a id='section3.2'></a>"
   ]
  },
  {
   "cell_type": "markdown",
   "metadata": {},
   "source": [
    "### Data Dictionary\n",
    "The dataset has nineteen features (columns) with the following definitions and data types:\n",
    "\n",
    "| Variable     | Data type    | Definition     |\n",
    "|------|-----|-----|\n",
    "| `RIDER_ID`    | int64     | a unique rider identifier     |\n",
    "| `LOCATION`    | objects     | the city the rider applied in     |\n",
    "| `APPLICATION_DATE`    | object     | the date the rider applied to work for Deliveroo     |\n",
    "| `APPLICATION_APPROVED_DATE`    | object     | the date that the rider application was approved     |\n",
    "| `FIRST_WORK_DATE`    | object     | the date of the rider’s first shift     |\n",
    "| `ACQUISITION_CHANNEL`    | object     | the last touch marketing channel recorded for the rider/applicant     |\n",
    "| `VEHICLE_TYPE`    | object     | the type of vehicle the rider uses     |\n",
    "| `WEEKS_SINCE_FIRST_WORK`    | object     | the number of weeks since the first_work_date, from 0-24     |\n",
    "| `RIDER_ACTIVE`    | bool     | Boolean flag if the rider worked in that week or not     |\n",
    "|`HOURS_WORKED`    | float64     | the number of hours worked by the rider that week     |\n",
    "| `HOURS_WORKED_CUMULATIVE`    | float64     | the cumulative number of hours worked by the rider to date     |\n",
    "| `ORDERS_DELIVERED`    | float64     | the number of orders delivered by the rider that week     |\n",
    "| `ORDERS_DELIVERED_CUMULATIVE`    | float64     | the cumulative number of orders delivered by the rider to date     |\n",
    "| `THROUGHPUT`    | float64     | the orders per hour (orders / hours) of the rider that week     |\n",
    "| `THROUGHPUT_CUMULATIVE_REFERRALS`    | float64     | the cumulative throughput of the rider to date     |\n",
    "| `REFERRALS`    | float64     | the number of referrals made by that rider that week     |\n",
    "| `REFERRALS_CUMULATIVE`    | float64     | the cumulative number of referrals made by that rider to date     |\n",
    "| `SUCCESSFUL_REFERRALS`    | float64     | the number of successful (approved) referrals made by the rider in that week     |\n",
    "| `SUCCESSFUL_REFERRAKS_CUMULATIVE`    | float64     | the cumulative number of successful (approved) referrals made by the rider to date     |"
   ]
  },
  {
   "cell_type": "markdown",
   "metadata": {},
   "source": [
    "The data will be features will be cleaned, converted and also additional features will be created in the [Data Engineering](#section4) section (Section 4)."
   ]
  },
  {
   "cell_type": "markdown",
   "metadata": {},
   "source": [
    "### Data Import\n",
    "First, let's import the CSV file provided, 'rgr_take_home_v3_dataset.csv', to this Jupyter notebook as a Pandas DataFrame."
   ]
  },
  {
   "cell_type": "code",
   "execution_count": 5,
   "metadata": {},
   "outputs": [],
   "source": [
    "# Import CSV to a Pandas DataFrame\n",
    "filepath = \"data/rgr_take_home_v3_dataset.csv\"\n",
    "df_raw = pd.read_csv(filepath)"
   ]
  },
  {
   "cell_type": "markdown",
   "metadata": {},
   "source": [
    "### Initial Data Handling\n",
    "Let's quality of the dataset by looking first and last rows, using the [head()](https://pandas.pydata.org/pandas-docs/stable/reference/api/pandas.DataFrame.head.html) and [tail()](https://pandas.pydata.org/pandas-docs/stable/reference/api/pandas.DataFrame.tail.html) methods."
   ]
  },
  {
   "cell_type": "code",
   "execution_count": 6,
   "metadata": {
    "scrolled": true
   },
   "outputs": [
    {
     "data": {
      "text/html": [
       "<div>\n",
       "<style scoped>\n",
       "    .dataframe tbody tr th:only-of-type {\n",
       "        vertical-align: middle;\n",
       "    }\n",
       "\n",
       "    .dataframe tbody tr th {\n",
       "        vertical-align: top;\n",
       "    }\n",
       "\n",
       "    .dataframe thead th {\n",
       "        text-align: right;\n",
       "    }\n",
       "</style>\n",
       "<table border=\"1\" class=\"dataframe\">\n",
       "  <thead>\n",
       "    <tr style=\"text-align: right;\">\n",
       "      <th></th>\n",
       "      <th>RIDER_ID</th>\n",
       "      <th>LOCATION</th>\n",
       "      <th>APPLICATION_DATE</th>\n",
       "      <th>APPLICATION_APPROVED_DATE</th>\n",
       "      <th>FIRST_WORK_DATE</th>\n",
       "      <th>ACQUISITION_CHANNEL</th>\n",
       "      <th>VEHICLE_TYPE</th>\n",
       "      <th>WEEKS_SINCE_FIRST_WORK</th>\n",
       "      <th>RIDER_ACTIVE</th>\n",
       "      <th>HOURS_WORKED</th>\n",
       "      <th>HOURS_WORKED_CUMULATIVE</th>\n",
       "      <th>ORDERS_DELIVERED</th>\n",
       "      <th>ORDERS_DELIVERED_CUMULATIVE</th>\n",
       "      <th>THROUGHPUT</th>\n",
       "      <th>THROUGHPUT_CUMULATIVE</th>\n",
       "      <th>REFERRALS</th>\n",
       "      <th>REFERRALS_CUMULATIVE</th>\n",
       "      <th>SUCCESSFUL_REFERRALS</th>\n",
       "      <th>SUCCESSFUL_REFERRALS_CUMULATIVE</th>\n",
       "    </tr>\n",
       "  </thead>\n",
       "  <tbody>\n",
       "    <tr>\n",
       "      <td>0</td>\n",
       "      <td>1864</td>\n",
       "      <td>Roo York</td>\n",
       "      <td>05/03/2017</td>\n",
       "      <td>31/03/2017</td>\n",
       "      <td>03/04/2017</td>\n",
       "      <td>Digital</td>\n",
       "      <td>Scooter / Motorcycle</td>\n",
       "      <td>0</td>\n",
       "      <td>True</td>\n",
       "      <td>18.918334</td>\n",
       "      <td>18.918334</td>\n",
       "      <td>44.0</td>\n",
       "      <td>44.0</td>\n",
       "      <td>2.325786</td>\n",
       "      <td>2.325786</td>\n",
       "      <td>NaN</td>\n",
       "      <td>NaN</td>\n",
       "      <td>NaN</td>\n",
       "      <td>NaN</td>\n",
       "    </tr>\n",
       "    <tr>\n",
       "      <td>1</td>\n",
       "      <td>1864</td>\n",
       "      <td>Roo York</td>\n",
       "      <td>05/03/2017</td>\n",
       "      <td>31/03/2017</td>\n",
       "      <td>03/04/2017</td>\n",
       "      <td>Digital</td>\n",
       "      <td>Scooter / Motorcycle</td>\n",
       "      <td>1</td>\n",
       "      <td>True</td>\n",
       "      <td>33.625274</td>\n",
       "      <td>52.543608</td>\n",
       "      <td>78.0</td>\n",
       "      <td>122.0</td>\n",
       "      <td>2.319684</td>\n",
       "      <td>2.321881</td>\n",
       "      <td>NaN</td>\n",
       "      <td>NaN</td>\n",
       "      <td>NaN</td>\n",
       "      <td>NaN</td>\n",
       "    </tr>\n",
       "    <tr>\n",
       "      <td>2</td>\n",
       "      <td>1864</td>\n",
       "      <td>Roo York</td>\n",
       "      <td>05/03/2017</td>\n",
       "      <td>31/03/2017</td>\n",
       "      <td>03/04/2017</td>\n",
       "      <td>Digital</td>\n",
       "      <td>Scooter / Motorcycle</td>\n",
       "      <td>2</td>\n",
       "      <td>True</td>\n",
       "      <td>10.539444</td>\n",
       "      <td>63.083052</td>\n",
       "      <td>30.0</td>\n",
       "      <td>152.0</td>\n",
       "      <td>2.846450</td>\n",
       "      <td>2.409522</td>\n",
       "      <td>NaN</td>\n",
       "      <td>NaN</td>\n",
       "      <td>NaN</td>\n",
       "      <td>NaN</td>\n",
       "    </tr>\n",
       "    <tr>\n",
       "      <td>3</td>\n",
       "      <td>1864</td>\n",
       "      <td>Roo York</td>\n",
       "      <td>05/03/2017</td>\n",
       "      <td>31/03/2017</td>\n",
       "      <td>03/04/2017</td>\n",
       "      <td>Digital</td>\n",
       "      <td>Scooter / Motorcycle</td>\n",
       "      <td>3</td>\n",
       "      <td>True</td>\n",
       "      <td>10.268887</td>\n",
       "      <td>73.351939</td>\n",
       "      <td>38.0</td>\n",
       "      <td>190.0</td>\n",
       "      <td>3.700498</td>\n",
       "      <td>2.590252</td>\n",
       "      <td>NaN</td>\n",
       "      <td>NaN</td>\n",
       "      <td>NaN</td>\n",
       "      <td>NaN</td>\n",
       "    </tr>\n",
       "    <tr>\n",
       "      <td>4</td>\n",
       "      <td>1864</td>\n",
       "      <td>Roo York</td>\n",
       "      <td>05/03/2017</td>\n",
       "      <td>31/03/2017</td>\n",
       "      <td>03/04/2017</td>\n",
       "      <td>Digital</td>\n",
       "      <td>Scooter / Motorcycle</td>\n",
       "      <td>4</td>\n",
       "      <td>True</td>\n",
       "      <td>17.463331</td>\n",
       "      <td>90.815270</td>\n",
       "      <td>58.0</td>\n",
       "      <td>248.0</td>\n",
       "      <td>3.321245</td>\n",
       "      <td>2.730818</td>\n",
       "      <td>NaN</td>\n",
       "      <td>NaN</td>\n",
       "      <td>NaN</td>\n",
       "      <td>NaN</td>\n",
       "    </tr>\n",
       "  </tbody>\n",
       "</table>\n",
       "</div>"
      ],
      "text/plain": [
       "   RIDER_ID  LOCATION APPLICATION_DATE APPLICATION_APPROVED_DATE  \\\n",
       "0      1864  Roo York       05/03/2017                31/03/2017   \n",
       "1      1864  Roo York       05/03/2017                31/03/2017   \n",
       "2      1864  Roo York       05/03/2017                31/03/2017   \n",
       "3      1864  Roo York       05/03/2017                31/03/2017   \n",
       "4      1864  Roo York       05/03/2017                31/03/2017   \n",
       "\n",
       "  FIRST_WORK_DATE ACQUISITION_CHANNEL          VEHICLE_TYPE  \\\n",
       "0      03/04/2017             Digital  Scooter / Motorcycle   \n",
       "1      03/04/2017             Digital  Scooter / Motorcycle   \n",
       "2      03/04/2017             Digital  Scooter / Motorcycle   \n",
       "3      03/04/2017             Digital  Scooter / Motorcycle   \n",
       "4      03/04/2017             Digital  Scooter / Motorcycle   \n",
       "\n",
       "   WEEKS_SINCE_FIRST_WORK  RIDER_ACTIVE  HOURS_WORKED  \\\n",
       "0                       0          True     18.918334   \n",
       "1                       1          True     33.625274   \n",
       "2                       2          True     10.539444   \n",
       "3                       3          True     10.268887   \n",
       "4                       4          True     17.463331   \n",
       "\n",
       "   HOURS_WORKED_CUMULATIVE  ORDERS_DELIVERED  ORDERS_DELIVERED_CUMULATIVE  \\\n",
       "0                18.918334              44.0                         44.0   \n",
       "1                52.543608              78.0                        122.0   \n",
       "2                63.083052              30.0                        152.0   \n",
       "3                73.351939              38.0                        190.0   \n",
       "4                90.815270              58.0                        248.0   \n",
       "\n",
       "   THROUGHPUT  THROUGHPUT_CUMULATIVE  REFERRALS  REFERRALS_CUMULATIVE  \\\n",
       "0    2.325786               2.325786        NaN                   NaN   \n",
       "1    2.319684               2.321881        NaN                   NaN   \n",
       "2    2.846450               2.409522        NaN                   NaN   \n",
       "3    3.700498               2.590252        NaN                   NaN   \n",
       "4    3.321245               2.730818        NaN                   NaN   \n",
       "\n",
       "   SUCCESSFUL_REFERRALS  SUCCESSFUL_REFERRALS_CUMULATIVE  \n",
       "0                   NaN                              NaN  \n",
       "1                   NaN                              NaN  \n",
       "2                   NaN                              NaN  \n",
       "3                   NaN                              NaN  \n",
       "4                   NaN                              NaN  "
      ]
     },
     "execution_count": 6,
     "metadata": {},
     "output_type": "execute_result"
    }
   ],
   "source": [
    "# Display the first 5 rows of the raw DataFrame, df_raw\n",
    "df_raw.head()"
   ]
  },
  {
   "cell_type": "code",
   "execution_count": 7,
   "metadata": {
    "scrolled": true
   },
   "outputs": [
    {
     "data": {
      "text/html": [
       "<div>\n",
       "<style scoped>\n",
       "    .dataframe tbody tr th:only-of-type {\n",
       "        vertical-align: middle;\n",
       "    }\n",
       "\n",
       "    .dataframe tbody tr th {\n",
       "        vertical-align: top;\n",
       "    }\n",
       "\n",
       "    .dataframe thead th {\n",
       "        text-align: right;\n",
       "    }\n",
       "</style>\n",
       "<table border=\"1\" class=\"dataframe\">\n",
       "  <thead>\n",
       "    <tr style=\"text-align: right;\">\n",
       "      <th></th>\n",
       "      <th>RIDER_ID</th>\n",
       "      <th>LOCATION</th>\n",
       "      <th>APPLICATION_DATE</th>\n",
       "      <th>APPLICATION_APPROVED_DATE</th>\n",
       "      <th>FIRST_WORK_DATE</th>\n",
       "      <th>ACQUISITION_CHANNEL</th>\n",
       "      <th>VEHICLE_TYPE</th>\n",
       "      <th>WEEKS_SINCE_FIRST_WORK</th>\n",
       "      <th>RIDER_ACTIVE</th>\n",
       "      <th>HOURS_WORKED</th>\n",
       "      <th>HOURS_WORKED_CUMULATIVE</th>\n",
       "      <th>ORDERS_DELIVERED</th>\n",
       "      <th>ORDERS_DELIVERED_CUMULATIVE</th>\n",
       "      <th>THROUGHPUT</th>\n",
       "      <th>THROUGHPUT_CUMULATIVE</th>\n",
       "      <th>REFERRALS</th>\n",
       "      <th>REFERRALS_CUMULATIVE</th>\n",
       "      <th>SUCCESSFUL_REFERRALS</th>\n",
       "      <th>SUCCESSFUL_REFERRALS_CUMULATIVE</th>\n",
       "    </tr>\n",
       "  </thead>\n",
       "  <tbody>\n",
       "    <tr>\n",
       "      <td>113520</td>\n",
       "      <td>103776</td>\n",
       "      <td>Roo York</td>\n",
       "      <td>28/03/2017</td>\n",
       "      <td>07/04/2017</td>\n",
       "      <td>08/04/2017</td>\n",
       "      <td>Referral</td>\n",
       "      <td>Scooter / Motorcycle</td>\n",
       "      <td>20</td>\n",
       "      <td>False</td>\n",
       "      <td>NaN</td>\n",
       "      <td>283.251111</td>\n",
       "      <td>NaN</td>\n",
       "      <td>638.0</td>\n",
       "      <td>NaN</td>\n",
       "      <td>2.252418</td>\n",
       "      <td>NaN</td>\n",
       "      <td>NaN</td>\n",
       "      <td>NaN</td>\n",
       "      <td>NaN</td>\n",
       "    </tr>\n",
       "    <tr>\n",
       "      <td>113521</td>\n",
       "      <td>103776</td>\n",
       "      <td>Roo York</td>\n",
       "      <td>28/03/2017</td>\n",
       "      <td>07/04/2017</td>\n",
       "      <td>08/04/2017</td>\n",
       "      <td>Referral</td>\n",
       "      <td>Scooter / Motorcycle</td>\n",
       "      <td>21</td>\n",
       "      <td>True</td>\n",
       "      <td>2.080833</td>\n",
       "      <td>285.331944</td>\n",
       "      <td>4.0</td>\n",
       "      <td>642.0</td>\n",
       "      <td>1.922307</td>\n",
       "      <td>2.250011</td>\n",
       "      <td>NaN</td>\n",
       "      <td>NaN</td>\n",
       "      <td>NaN</td>\n",
       "      <td>NaN</td>\n",
       "    </tr>\n",
       "    <tr>\n",
       "      <td>113522</td>\n",
       "      <td>103776</td>\n",
       "      <td>Roo York</td>\n",
       "      <td>28/03/2017</td>\n",
       "      <td>07/04/2017</td>\n",
       "      <td>08/04/2017</td>\n",
       "      <td>Referral</td>\n",
       "      <td>Scooter / Motorcycle</td>\n",
       "      <td>22</td>\n",
       "      <td>True</td>\n",
       "      <td>0.664722</td>\n",
       "      <td>285.996666</td>\n",
       "      <td>2.0</td>\n",
       "      <td>644.0</td>\n",
       "      <td>3.008777</td>\n",
       "      <td>2.251775</td>\n",
       "      <td>NaN</td>\n",
       "      <td>NaN</td>\n",
       "      <td>NaN</td>\n",
       "      <td>NaN</td>\n",
       "    </tr>\n",
       "    <tr>\n",
       "      <td>113523</td>\n",
       "      <td>103776</td>\n",
       "      <td>Roo York</td>\n",
       "      <td>28/03/2017</td>\n",
       "      <td>07/04/2017</td>\n",
       "      <td>08/04/2017</td>\n",
       "      <td>Referral</td>\n",
       "      <td>Scooter / Motorcycle</td>\n",
       "      <td>23</td>\n",
       "      <td>False</td>\n",
       "      <td>0.000000</td>\n",
       "      <td>285.996666</td>\n",
       "      <td>NaN</td>\n",
       "      <td>644.0</td>\n",
       "      <td>NaN</td>\n",
       "      <td>2.251775</td>\n",
       "      <td>NaN</td>\n",
       "      <td>NaN</td>\n",
       "      <td>NaN</td>\n",
       "      <td>NaN</td>\n",
       "    </tr>\n",
       "    <tr>\n",
       "      <td>113524</td>\n",
       "      <td>103776</td>\n",
       "      <td>Roo York</td>\n",
       "      <td>28/03/2017</td>\n",
       "      <td>07/04/2017</td>\n",
       "      <td>08/04/2017</td>\n",
       "      <td>Referral</td>\n",
       "      <td>Scooter / Motorcycle</td>\n",
       "      <td>24</td>\n",
       "      <td>False</td>\n",
       "      <td>NaN</td>\n",
       "      <td>285.996666</td>\n",
       "      <td>NaN</td>\n",
       "      <td>644.0</td>\n",
       "      <td>NaN</td>\n",
       "      <td>2.251775</td>\n",
       "      <td>NaN</td>\n",
       "      <td>NaN</td>\n",
       "      <td>NaN</td>\n",
       "      <td>NaN</td>\n",
       "    </tr>\n",
       "  </tbody>\n",
       "</table>\n",
       "</div>"
      ],
      "text/plain": [
       "        RIDER_ID  LOCATION APPLICATION_DATE APPLICATION_APPROVED_DATE  \\\n",
       "113520    103776  Roo York       28/03/2017                07/04/2017   \n",
       "113521    103776  Roo York       28/03/2017                07/04/2017   \n",
       "113522    103776  Roo York       28/03/2017                07/04/2017   \n",
       "113523    103776  Roo York       28/03/2017                07/04/2017   \n",
       "113524    103776  Roo York       28/03/2017                07/04/2017   \n",
       "\n",
       "       FIRST_WORK_DATE ACQUISITION_CHANNEL          VEHICLE_TYPE  \\\n",
       "113520      08/04/2017            Referral  Scooter / Motorcycle   \n",
       "113521      08/04/2017            Referral  Scooter / Motorcycle   \n",
       "113522      08/04/2017            Referral  Scooter / Motorcycle   \n",
       "113523      08/04/2017            Referral  Scooter / Motorcycle   \n",
       "113524      08/04/2017            Referral  Scooter / Motorcycle   \n",
       "\n",
       "        WEEKS_SINCE_FIRST_WORK  RIDER_ACTIVE  HOURS_WORKED  \\\n",
       "113520                      20         False           NaN   \n",
       "113521                      21          True      2.080833   \n",
       "113522                      22          True      0.664722   \n",
       "113523                      23         False      0.000000   \n",
       "113524                      24         False           NaN   \n",
       "\n",
       "        HOURS_WORKED_CUMULATIVE  ORDERS_DELIVERED  \\\n",
       "113520               283.251111               NaN   \n",
       "113521               285.331944               4.0   \n",
       "113522               285.996666               2.0   \n",
       "113523               285.996666               NaN   \n",
       "113524               285.996666               NaN   \n",
       "\n",
       "        ORDERS_DELIVERED_CUMULATIVE  THROUGHPUT  THROUGHPUT_CUMULATIVE  \\\n",
       "113520                        638.0         NaN               2.252418   \n",
       "113521                        642.0    1.922307               2.250011   \n",
       "113522                        644.0    3.008777               2.251775   \n",
       "113523                        644.0         NaN               2.251775   \n",
       "113524                        644.0         NaN               2.251775   \n",
       "\n",
       "        REFERRALS  REFERRALS_CUMULATIVE  SUCCESSFUL_REFERRALS  \\\n",
       "113520        NaN                   NaN                   NaN   \n",
       "113521        NaN                   NaN                   NaN   \n",
       "113522        NaN                   NaN                   NaN   \n",
       "113523        NaN                   NaN                   NaN   \n",
       "113524        NaN                   NaN                   NaN   \n",
       "\n",
       "        SUCCESSFUL_REFERRALS_CUMULATIVE  \n",
       "113520                              NaN  \n",
       "113521                              NaN  \n",
       "113522                              NaN  \n",
       "113523                              NaN  \n",
       "113524                              NaN  "
      ]
     },
     "execution_count": 7,
     "metadata": {},
     "output_type": "execute_result"
    }
   ],
   "source": [
    "# Display the last 5 rows of the raw DataFrame, df_raw\n",
    "df_raw.tail()"
   ]
  },
  {
   "cell_type": "code",
   "execution_count": 8,
   "metadata": {},
   "outputs": [
    {
     "name": "stdout",
     "output_type": "stream",
     "text": [
      "(113525, 19)\n"
     ]
    }
   ],
   "source": [
    "# Print the shape of the raw DataFrame, df_raw\n",
    "print(df_raw.shape)"
   ]
  },
  {
   "cell_type": "markdown",
   "metadata": {},
   "source": [
    "The raw DataFrame has:\n",
    "*    113,525 observations (rows), each observation represents one Rider per week, and\n",
    "*    19 attributes (columns)."
   ]
  },
  {
   "cell_type": "code",
   "execution_count": 9,
   "metadata": {},
   "outputs": [
    {
     "data": {
      "text/plain": [
       "Index(['RIDER_ID', 'LOCATION', 'APPLICATION_DATE', 'APPLICATION_APPROVED_DATE',\n",
       "       'FIRST_WORK_DATE', 'ACQUISITION_CHANNEL', 'VEHICLE_TYPE',\n",
       "       'WEEKS_SINCE_FIRST_WORK', 'RIDER_ACTIVE', 'HOURS_WORKED',\n",
       "       'HOURS_WORKED_CUMULATIVE', 'ORDERS_DELIVERED',\n",
       "       'ORDERS_DELIVERED_CUMULATIVE', 'THROUGHPUT', 'THROUGHPUT_CUMULATIVE',\n",
       "       'REFERRALS', 'REFERRALS_CUMULATIVE', 'SUCCESSFUL_REFERRALS',\n",
       "       'SUCCESSFUL_REFERRALS_CUMULATIVE'],\n",
       "      dtype='object')"
      ]
     },
     "execution_count": 9,
     "metadata": {},
     "output_type": "execute_result"
    }
   ],
   "source": [
    "# Features (column names) of the raw DataFrame, df_raw\n",
    "df_raw.columns"
   ]
  },
  {
   "cell_type": "markdown",
   "metadata": {},
   "source": [
    "The dataset has nineteen features (columns):\n",
    "*    `RIDER_ID`: a unique rider identifier\n",
    "*    `LOCATION`: the city the rider applied in\n",
    "*    `APPLICATION_DATE`: the date the rider applied to work for Deliveroo\n",
    "*    `APPLICATION_APPROVED_DATE`: the date that the rider application was approved\n",
    "*    `FIRST_WORK_DATE`: \n",
    "*    `ACQUISITION_CHANNEL`: the last touch marketing channel recorded for the rider/applicant\n",
    "*    `VEHICLE_TYPE`: the type of vehicle the rider uses\n",
    "*    `WEEKS_SINCE_FIRST_WORK`: the number of weeks since the first_work_date, from 0-24\n",
    "*    `RIDER_ACTIVE`: Boolean flag if the rider worked in that week or not\n",
    "*    `HOURS_WORKED`: the number of hours worked by the rider that week\n",
    "*    `HOURS_WORKED_CUMULATIVE`: the cumulative number of hours worked by the rider to date\n",
    "*    `ORDERS_DELIVERED`: the number of orders delivered by the rider that week\n",
    "*    `ORDERS_DELIVERED_CUMULATIVE`: the cumulative number of orders delivered by the rider to date\n",
    "*    `THROUGHPUT`: the orders per hour (orders / hours) of the rider that week\n",
    "*    `THROUGHPUT_CUMULATIVE_REFERRALS`: the cumulative throughput of the rider to date\n",
    "*    `REFERRALS`: the number of referrals made by that rider that week\n",
    "*    `REFERRALS_CUMULATIVE`: the cumulative number of referrals made by that rider to date\n",
    "*    `SUCCESSFUL_REFERRALS`: the number of successful (approved) referrals made by the rider in that week\n",
    "*    `SUCCESSFUL_REFERRALS_CUMULATIVE`: the cumulative number of successful (approved) referrals made by the rider to date"
   ]
  },
  {
   "cell_type": "markdown",
   "metadata": {},
   "source": [
    "The [dtypes](https://pandas.pydata.org/pandas-docs/stable/reference/api/pandas.DataFrame.dtypes.html) method returns the data types of each attribute in the DataFrame."
   ]
  },
  {
   "cell_type": "code",
   "execution_count": 10,
   "metadata": {},
   "outputs": [
    {
     "data": {
      "text/plain": [
       "RIDER_ID                             int64\n",
       "LOCATION                            object\n",
       "APPLICATION_DATE                    object\n",
       "APPLICATION_APPROVED_DATE           object\n",
       "FIRST_WORK_DATE                     object\n",
       "ACQUISITION_CHANNEL                 object\n",
       "VEHICLE_TYPE                        object\n",
       "WEEKS_SINCE_FIRST_WORK               int64\n",
       "RIDER_ACTIVE                          bool\n",
       "HOURS_WORKED                       float64\n",
       "HOURS_WORKED_CUMULATIVE            float64\n",
       "ORDERS_DELIVERED                   float64\n",
       "ORDERS_DELIVERED_CUMULATIVE        float64\n",
       "THROUGHPUT                         float64\n",
       "THROUGHPUT_CUMULATIVE              float64\n",
       "REFERRALS                          float64\n",
       "REFERRALS_CUMULATIVE               float64\n",
       "SUCCESSFUL_REFERRALS               float64\n",
       "SUCCESSFUL_REFERRALS_CUMULATIVE    float64\n",
       "dtype: object"
      ]
     },
     "execution_count": 10,
     "metadata": {},
     "output_type": "execute_result"
    }
   ],
   "source": [
    "# dtypes of the features of the raw DataFrame, df_raw\n",
    "df_raw.dtypes"
   ]
  },
  {
   "cell_type": "markdown",
   "metadata": {},
   "source": [
    "The [info](https://pandas.pydata.org/pandas-docs/stable/reference/api/pandas.DataFrame.info.html) method to get a quick description of the data, in particular the total number of rows, and each attribute’s type and number of non-null values."
   ]
  },
  {
   "cell_type": "code",
   "execution_count": 11,
   "metadata": {},
   "outputs": [
    {
     "name": "stdout",
     "output_type": "stream",
     "text": [
      "<class 'pandas.core.frame.DataFrame'>\n",
      "RangeIndex: 113525 entries, 0 to 113524\n",
      "Data columns (total 19 columns):\n",
      "RIDER_ID                           113525 non-null int64\n",
      "LOCATION                           113525 non-null object\n",
      "APPLICATION_DATE                   113525 non-null object\n",
      "APPLICATION_APPROVED_DATE          113525 non-null object\n",
      "FIRST_WORK_DATE                    113525 non-null object\n",
      "ACQUISITION_CHANNEL                113525 non-null object\n",
      "VEHICLE_TYPE                       113525 non-null object\n",
      "WEEKS_SINCE_FIRST_WORK             113525 non-null int64\n",
      "RIDER_ACTIVE                       113525 non-null bool\n",
      "HOURS_WORKED                       55001 non-null float64\n",
      "HOURS_WORKED_CUMULATIVE            113525 non-null float64\n",
      "ORDERS_DELIVERED                   51774 non-null float64\n",
      "ORDERS_DELIVERED_CUMULATIVE        111362 non-null float64\n",
      "THROUGHPUT                         51774 non-null float64\n",
      "THROUGHPUT_CUMULATIVE              111362 non-null float64\n",
      "REFERRALS                          2409 non-null float64\n",
      "REFERRALS_CUMULATIVE               17068 non-null float64\n",
      "SUCCESSFUL_REFERRALS               2409 non-null float64\n",
      "SUCCESSFUL_REFERRALS_CUMULATIVE    17068 non-null float64\n",
      "dtypes: bool(1), float64(10), int64(2), object(6)\n",
      "memory usage: 15.7+ MB\n"
     ]
    }
   ],
   "source": [
    "# Info for the raw DataFrame, df_raw\n",
    "df_raw.info()"
   ]
  },
  {
   "cell_type": "markdown",
   "metadata": {},
   "source": [
    "The [describe](https://pandas.pydata.org/pandas-docs/stable/reference/api/pandas.DataFrame.describe.html) method to show some useful statistics for each numerical column in the DataFrame."
   ]
  },
  {
   "cell_type": "code",
   "execution_count": 12,
   "metadata": {
    "scrolled": false
   },
   "outputs": [
    {
     "data": {
      "text/html": [
       "<div>\n",
       "<style scoped>\n",
       "    .dataframe tbody tr th:only-of-type {\n",
       "        vertical-align: middle;\n",
       "    }\n",
       "\n",
       "    .dataframe tbody tr th {\n",
       "        vertical-align: top;\n",
       "    }\n",
       "\n",
       "    .dataframe thead th {\n",
       "        text-align: right;\n",
       "    }\n",
       "</style>\n",
       "<table border=\"1\" class=\"dataframe\">\n",
       "  <thead>\n",
       "    <tr style=\"text-align: right;\">\n",
       "      <th></th>\n",
       "      <th>RIDER_ID</th>\n",
       "      <th>WEEKS_SINCE_FIRST_WORK</th>\n",
       "      <th>HOURS_WORKED</th>\n",
       "      <th>HOURS_WORKED_CUMULATIVE</th>\n",
       "      <th>ORDERS_DELIVERED</th>\n",
       "      <th>ORDERS_DELIVERED_CUMULATIVE</th>\n",
       "      <th>THROUGHPUT</th>\n",
       "      <th>THROUGHPUT_CUMULATIVE</th>\n",
       "      <th>REFERRALS</th>\n",
       "      <th>REFERRALS_CUMULATIVE</th>\n",
       "      <th>SUCCESSFUL_REFERRALS</th>\n",
       "      <th>SUCCESSFUL_REFERRALS_CUMULATIVE</th>\n",
       "    </tr>\n",
       "  </thead>\n",
       "  <tbody>\n",
       "    <tr>\n",
       "      <td>count</td>\n",
       "      <td>113525.000000</td>\n",
       "      <td>113525.000000</td>\n",
       "      <td>55001.000000</td>\n",
       "      <td>113525.000000</td>\n",
       "      <td>51774.000000</td>\n",
       "      <td>111362.000000</td>\n",
       "      <td>51774.000000</td>\n",
       "      <td>111362.000000</td>\n",
       "      <td>2409.000000</td>\n",
       "      <td>17068.000000</td>\n",
       "      <td>2409.000000</td>\n",
       "      <td>17068.000000</td>\n",
       "    </tr>\n",
       "    <tr>\n",
       "      <td>mean</td>\n",
       "      <td>80873.171989</td>\n",
       "      <td>12.000000</td>\n",
       "      <td>16.333247</td>\n",
       "      <td>117.987786</td>\n",
       "      <td>37.995287</td>\n",
       "      <td>252.875532</td>\n",
       "      <td>2.185034</td>\n",
       "      <td>1.945347</td>\n",
       "      <td>1.077210</td>\n",
       "      <td>2.067495</td>\n",
       "      <td>0.233707</td>\n",
       "      <td>0.396649</td>\n",
       "    </tr>\n",
       "    <tr>\n",
       "      <td>std</td>\n",
       "      <td>12798.378932</td>\n",
       "      <td>7.211134</td>\n",
       "      <td>14.652287</td>\n",
       "      <td>166.645993</td>\n",
       "      <td>35.692802</td>\n",
       "      <td>389.403744</td>\n",
       "      <td>0.781561</td>\n",
       "      <td>0.663847</td>\n",
       "      <td>1.717319</td>\n",
       "      <td>5.127942</td>\n",
       "      <td>0.476797</td>\n",
       "      <td>0.801456</td>\n",
       "    </tr>\n",
       "    <tr>\n",
       "      <td>min</td>\n",
       "      <td>1864.000000</td>\n",
       "      <td>0.000000</td>\n",
       "      <td>0.000000</td>\n",
       "      <td>0.167500</td>\n",
       "      <td>1.000000</td>\n",
       "      <td>1.000000</td>\n",
       "      <td>0.023303</td>\n",
       "      <td>0.025417</td>\n",
       "      <td>0.000000</td>\n",
       "      <td>0.000000</td>\n",
       "      <td>0.000000</td>\n",
       "      <td>0.000000</td>\n",
       "    </tr>\n",
       "    <tr>\n",
       "      <td>25%</td>\n",
       "      <td>70838.000000</td>\n",
       "      <td>6.000000</td>\n",
       "      <td>5.484444</td>\n",
       "      <td>19.801390</td>\n",
       "      <td>12.000000</td>\n",
       "      <td>35.000000</td>\n",
       "      <td>1.696575</td>\n",
       "      <td>1.521931</td>\n",
       "      <td>1.000000</td>\n",
       "      <td>1.000000</td>\n",
       "      <td>0.000000</td>\n",
       "      <td>0.000000</td>\n",
       "    </tr>\n",
       "    <tr>\n",
       "      <td>50%</td>\n",
       "      <td>77621.000000</td>\n",
       "      <td>12.000000</td>\n",
       "      <td>11.976390</td>\n",
       "      <td>55.344720</td>\n",
       "      <td>26.000000</td>\n",
       "      <td>104.000000</td>\n",
       "      <td>2.210061</td>\n",
       "      <td>1.993766</td>\n",
       "      <td>1.000000</td>\n",
       "      <td>1.000000</td>\n",
       "      <td>0.000000</td>\n",
       "      <td>0.000000</td>\n",
       "    </tr>\n",
       "    <tr>\n",
       "      <td>75%</td>\n",
       "      <td>94220.000000</td>\n",
       "      <td>18.000000</td>\n",
       "      <td>22.985834</td>\n",
       "      <td>143.990280</td>\n",
       "      <td>53.000000</td>\n",
       "      <td>294.000000</td>\n",
       "      <td>2.686744</td>\n",
       "      <td>2.403426</td>\n",
       "      <td>1.000000</td>\n",
       "      <td>2.000000</td>\n",
       "      <td>0.000000</td>\n",
       "      <td>1.000000</td>\n",
       "    </tr>\n",
       "    <tr>\n",
       "      <td>max</td>\n",
       "      <td>103776.000000</td>\n",
       "      <td>24.000000</td>\n",
       "      <td>122.296665</td>\n",
       "      <td>2075.802227</td>\n",
       "      <td>284.000000</td>\n",
       "      <td>5046.000000</td>\n",
       "      <td>30.000300</td>\n",
       "      <td>6.326892</td>\n",
       "      <td>37.000000</td>\n",
       "      <td>285.000000</td>\n",
       "      <td>5.000000</td>\n",
       "      <td>28.000000</td>\n",
       "    </tr>\n",
       "  </tbody>\n",
       "</table>\n",
       "</div>"
      ],
      "text/plain": [
       "            RIDER_ID  WEEKS_SINCE_FIRST_WORK  HOURS_WORKED  \\\n",
       "count  113525.000000           113525.000000  55001.000000   \n",
       "mean    80873.171989               12.000000     16.333247   \n",
       "std     12798.378932                7.211134     14.652287   \n",
       "min      1864.000000                0.000000      0.000000   \n",
       "25%     70838.000000                6.000000      5.484444   \n",
       "50%     77621.000000               12.000000     11.976390   \n",
       "75%     94220.000000               18.000000     22.985834   \n",
       "max    103776.000000               24.000000    122.296665   \n",
       "\n",
       "       HOURS_WORKED_CUMULATIVE  ORDERS_DELIVERED  ORDERS_DELIVERED_CUMULATIVE  \\\n",
       "count            113525.000000      51774.000000                111362.000000   \n",
       "mean                117.987786         37.995287                   252.875532   \n",
       "std                 166.645993         35.692802                   389.403744   \n",
       "min                   0.167500          1.000000                     1.000000   \n",
       "25%                  19.801390         12.000000                    35.000000   \n",
       "50%                  55.344720         26.000000                   104.000000   \n",
       "75%                 143.990280         53.000000                   294.000000   \n",
       "max                2075.802227        284.000000                  5046.000000   \n",
       "\n",
       "         THROUGHPUT  THROUGHPUT_CUMULATIVE    REFERRALS  REFERRALS_CUMULATIVE  \\\n",
       "count  51774.000000          111362.000000  2409.000000          17068.000000   \n",
       "mean       2.185034               1.945347     1.077210              2.067495   \n",
       "std        0.781561               0.663847     1.717319              5.127942   \n",
       "min        0.023303               0.025417     0.000000              0.000000   \n",
       "25%        1.696575               1.521931     1.000000              1.000000   \n",
       "50%        2.210061               1.993766     1.000000              1.000000   \n",
       "75%        2.686744               2.403426     1.000000              2.000000   \n",
       "max       30.000300               6.326892    37.000000            285.000000   \n",
       "\n",
       "       SUCCESSFUL_REFERRALS  SUCCESSFUL_REFERRALS_CUMULATIVE  \n",
       "count           2409.000000                     17068.000000  \n",
       "mean               0.233707                         0.396649  \n",
       "std                0.476797                         0.801456  \n",
       "min                0.000000                         0.000000  \n",
       "25%                0.000000                         0.000000  \n",
       "50%                0.000000                         0.000000  \n",
       "75%                0.000000                         1.000000  \n",
       "max                5.000000                        28.000000  "
      ]
     },
     "execution_count": 12,
     "metadata": {},
     "output_type": "execute_result"
    }
   ],
   "source": [
    "# Description of the raw DataFrame, df_raw, showing some summary statistics for each numberical column in the DataFrame\n",
    "df_raw.describe()"
   ]
  },
  {
   "cell_type": "markdown",
   "metadata": {},
   "source": [
    "Next, we will check to see how many missing values we have i.e. the number of NULL values in the dataset, and in what features these missing values are located. This can be plotted nicely using the [missingno](https://pypi.org/project/missingno/) library (pip install missingno)."
   ]
  },
  {
   "cell_type": "code",
   "execution_count": 13,
   "metadata": {
    "scrolled": true
   },
   "outputs": [
    {
     "data": {
      "text/plain": [
       "<matplotlib.axes._subplots.AxesSubplot at 0x1a179e8390>"
      ]
     },
     "execution_count": 13,
     "metadata": {},
     "output_type": "execute_result"
    },
    {
     "data": {
      "image/png": "[encoded data removed]",
      "text/plain": [
       "<Figure size 2160x504 with 2 Axes>"
      ]
     },
     "metadata": {
      "needs_background": "light"
     },
     "output_type": "display_data"
    }
   ],
   "source": [
    "# Plot visualisation of the missing values for each feature of the raw DataFrame, df_raw\n",
    "msno.matrix(df_raw, figsize = (30, 7))"
   ]
  },
  {
   "cell_type": "code",
   "execution_count": 14,
   "metadata": {},
   "outputs": [
    {
     "data": {
      "text/plain": [
       "HOURS_WORKED                        58524\n",
       "ORDERS_DELIVERED                    61751\n",
       "ORDERS_DELIVERED_CUMULATIVE          2163\n",
       "THROUGHPUT                          61751\n",
       "THROUGHPUT_CUMULATIVE                2163\n",
       "REFERRALS                          111116\n",
       "REFERRALS_CUMULATIVE                96457\n",
       "SUCCESSFUL_REFERRALS               111116\n",
       "SUCCESSFUL_REFERRALS_CUMULATIVE     96457\n",
       "dtype: int64"
      ]
     },
     "execution_count": 14,
     "metadata": {},
     "output_type": "execute_result"
    }
   ],
   "source": [
    "# Counts of missing values\n",
    "null_value_stats = df_raw.isnull().sum(axis=0)\n",
    "null_value_stats[null_value_stats != 0]"
   ]
  },
  {
   "cell_type": "markdown",
   "metadata": {},
   "source": [
    "Even though it is good practice to look at the NULL values in a new dataset, as stated in the brief, the dataset is clean and no data cleaning is required. We therefore will leave null values here."
   ]
  },
  {
   "cell_type": "markdown",
   "metadata": {},
   "source": [
    "### Data Wrangling\n",
    "As stated in the brief, the dataset has 113,525 records in which one each row refers to one rider per week i.e. each of the 4,541 Riders has 25 rows of data (including week 0 as the week they joined).\n",
    "\n",
    "For my analysis, I want to separate the latest version of each Rider's data, i.e. week 24, from the previous week's data, to analyse only their total performance of the Riders over the 24 week period. This will leave a dataset of 4,541 records, one per Rider, each with the total value of the following data points: `WEEKS_SINCE_FIRST_WORK`, `HOURS_WORKED_CUMULATIVE`, `ORDERS_DELIVERED_CUMULATIVE`, `THROUGHPUT_CUMULATIVE_REFERRALS`, `REFERRALS_CUMULATIVE`, and `SUCCESSFUL_REFERRALS_CUMULATIVE`."
   ]
  },
  {
   "cell_type": "markdown",
   "metadata": {},
   "source": [
    "To do this, we can take the rows only where `WEEKS_SINCE_FIRST_WORK` is equal to 24 i.e. the final week and create the new Dataframe that we'll be working with, using the standard naming convention `df`."
   ]
  },
  {
   "cell_type": "code",
   "execution_count": 15,
   "metadata": {},
   "outputs": [],
   "source": [
    "# Week 24 only of each Rider\n",
    "df = df_raw.loc[df_raw['WEEKS_SINCE_FIRST_WORK'] == 24]"
   ]
  },
  {
   "cell_type": "markdown",
   "metadata": {},
   "source": [
    "Again we will perform some of the data handling checks that we performed with the raw dataset."
   ]
  },
  {
   "cell_type": "code",
   "execution_count": 16,
   "metadata": {},
   "outputs": [
    {
     "data": {
      "text/html": [
       "<div>\n",
       "<style scoped>\n",
       "    .dataframe tbody tr th:only-of-type {\n",
       "        vertical-align: middle;\n",
       "    }\n",
       "\n",
       "    .dataframe tbody tr th {\n",
       "        vertical-align: top;\n",
       "    }\n",
       "\n",
       "    .dataframe thead th {\n",
       "        text-align: right;\n",
       "    }\n",
       "</style>\n",
       "<table border=\"1\" class=\"dataframe\">\n",
       "  <thead>\n",
       "    <tr style=\"text-align: right;\">\n",
       "      <th></th>\n",
       "      <th>RIDER_ID</th>\n",
       "      <th>LOCATION</th>\n",
       "      <th>APPLICATION_DATE</th>\n",
       "      <th>APPLICATION_APPROVED_DATE</th>\n",
       "      <th>FIRST_WORK_DATE</th>\n",
       "      <th>ACQUISITION_CHANNEL</th>\n",
       "      <th>VEHICLE_TYPE</th>\n",
       "      <th>WEEKS_SINCE_FIRST_WORK</th>\n",
       "      <th>RIDER_ACTIVE</th>\n",
       "      <th>HOURS_WORKED</th>\n",
       "      <th>HOURS_WORKED_CUMULATIVE</th>\n",
       "      <th>ORDERS_DELIVERED</th>\n",
       "      <th>ORDERS_DELIVERED_CUMULATIVE</th>\n",
       "      <th>THROUGHPUT</th>\n",
       "      <th>THROUGHPUT_CUMULATIVE</th>\n",
       "      <th>REFERRALS</th>\n",
       "      <th>REFERRALS_CUMULATIVE</th>\n",
       "      <th>SUCCESSFUL_REFERRALS</th>\n",
       "      <th>SUCCESSFUL_REFERRALS_CUMULATIVE</th>\n",
       "    </tr>\n",
       "  </thead>\n",
       "  <tbody>\n",
       "    <tr>\n",
       "      <td>24</td>\n",
       "      <td>1864</td>\n",
       "      <td>Roo York</td>\n",
       "      <td>05/03/2017</td>\n",
       "      <td>31/03/2017</td>\n",
       "      <td>03/04/2017</td>\n",
       "      <td>Digital</td>\n",
       "      <td>Scooter / Motorcycle</td>\n",
       "      <td>24</td>\n",
       "      <td>True</td>\n",
       "      <td>35.087779</td>\n",
       "      <td>820.883044</td>\n",
       "      <td>70.0</td>\n",
       "      <td>1977.0</td>\n",
       "      <td>1.994997</td>\n",
       "      <td>2.408382</td>\n",
       "      <td>NaN</td>\n",
       "      <td>1.0</td>\n",
       "      <td>NaN</td>\n",
       "      <td>1.0</td>\n",
       "    </tr>\n",
       "    <tr>\n",
       "      <td>49</td>\n",
       "      <td>3062</td>\n",
       "      <td>Roo York</td>\n",
       "      <td>03/10/2016</td>\n",
       "      <td>22/10/2016</td>\n",
       "      <td>30/10/2016</td>\n",
       "      <td>Offline</td>\n",
       "      <td>Bicycle</td>\n",
       "      <td>24</td>\n",
       "      <td>False</td>\n",
       "      <td>NaN</td>\n",
       "      <td>15.555832</td>\n",
       "      <td>NaN</td>\n",
       "      <td>26.0</td>\n",
       "      <td>NaN</td>\n",
       "      <td>1.671399</td>\n",
       "      <td>NaN</td>\n",
       "      <td>NaN</td>\n",
       "      <td>NaN</td>\n",
       "      <td>NaN</td>\n",
       "    </tr>\n",
       "    <tr>\n",
       "      <td>74</td>\n",
       "      <td>5276</td>\n",
       "      <td>Roo York</td>\n",
       "      <td>24/03/2017</td>\n",
       "      <td>31/03/2017</td>\n",
       "      <td>01/04/2017</td>\n",
       "      <td>Organic</td>\n",
       "      <td>Scooter / Motorcycle</td>\n",
       "      <td>24</td>\n",
       "      <td>False</td>\n",
       "      <td>NaN</td>\n",
       "      <td>23.326944</td>\n",
       "      <td>NaN</td>\n",
       "      <td>70.0</td>\n",
       "      <td>NaN</td>\n",
       "      <td>3.000822</td>\n",
       "      <td>NaN</td>\n",
       "      <td>1.0</td>\n",
       "      <td>NaN</td>\n",
       "      <td>0.0</td>\n",
       "    </tr>\n",
       "    <tr>\n",
       "      <td>99</td>\n",
       "      <td>9510</td>\n",
       "      <td>Roo York</td>\n",
       "      <td>05/10/2016</td>\n",
       "      <td>22/10/2016</td>\n",
       "      <td>28/10/2016</td>\n",
       "      <td>Digital</td>\n",
       "      <td>Bicycle</td>\n",
       "      <td>24</td>\n",
       "      <td>False</td>\n",
       "      <td>NaN</td>\n",
       "      <td>74.400552</td>\n",
       "      <td>NaN</td>\n",
       "      <td>97.0</td>\n",
       "      <td>NaN</td>\n",
       "      <td>1.303754</td>\n",
       "      <td>NaN</td>\n",
       "      <td>NaN</td>\n",
       "      <td>NaN</td>\n",
       "      <td>NaN</td>\n",
       "    </tr>\n",
       "    <tr>\n",
       "      <td>124</td>\n",
       "      <td>16977</td>\n",
       "      <td>Roo York</td>\n",
       "      <td>18/03/2017</td>\n",
       "      <td>20/03/2017</td>\n",
       "      <td>24/03/2017</td>\n",
       "      <td>Referral</td>\n",
       "      <td>Bicycle</td>\n",
       "      <td>24</td>\n",
       "      <td>False</td>\n",
       "      <td>NaN</td>\n",
       "      <td>23.710833</td>\n",
       "      <td>NaN</td>\n",
       "      <td>67.0</td>\n",
       "      <td>NaN</td>\n",
       "      <td>2.825713</td>\n",
       "      <td>NaN</td>\n",
       "      <td>NaN</td>\n",
       "      <td>NaN</td>\n",
       "      <td>NaN</td>\n",
       "    </tr>\n",
       "  </tbody>\n",
       "</table>\n",
       "</div>"
      ],
      "text/plain": [
       "     RIDER_ID  LOCATION APPLICATION_DATE APPLICATION_APPROVED_DATE  \\\n",
       "24       1864  Roo York       05/03/2017                31/03/2017   \n",
       "49       3062  Roo York       03/10/2016                22/10/2016   \n",
       "74       5276  Roo York       24/03/2017                31/03/2017   \n",
       "99       9510  Roo York       05/10/2016                22/10/2016   \n",
       "124     16977  Roo York       18/03/2017                20/03/2017   \n",
       "\n",
       "    FIRST_WORK_DATE ACQUISITION_CHANNEL          VEHICLE_TYPE  \\\n",
       "24       03/04/2017             Digital  Scooter / Motorcycle   \n",
       "49       30/10/2016             Offline               Bicycle   \n",
       "74       01/04/2017             Organic  Scooter / Motorcycle   \n",
       "99       28/10/2016             Digital               Bicycle   \n",
       "124      24/03/2017            Referral               Bicycle   \n",
       "\n",
       "     WEEKS_SINCE_FIRST_WORK  RIDER_ACTIVE  HOURS_WORKED  \\\n",
       "24                       24          True     35.087779   \n",
       "49                       24         False           NaN   \n",
       "74                       24         False           NaN   \n",
       "99                       24         False           NaN   \n",
       "124                      24         False           NaN   \n",
       "\n",
       "     HOURS_WORKED_CUMULATIVE  ORDERS_DELIVERED  ORDERS_DELIVERED_CUMULATIVE  \\\n",
       "24                820.883044              70.0                       1977.0   \n",
       "49                 15.555832               NaN                         26.0   \n",
       "74                 23.326944               NaN                         70.0   \n",
       "99                 74.400552               NaN                         97.0   \n",
       "124                23.710833               NaN                         67.0   \n",
       "\n",
       "     THROUGHPUT  THROUGHPUT_CUMULATIVE  REFERRALS  REFERRALS_CUMULATIVE  \\\n",
       "24     1.994997               2.408382        NaN                   1.0   \n",
       "49          NaN               1.671399        NaN                   NaN   \n",
       "74          NaN               3.000822        NaN                   1.0   \n",
       "99          NaN               1.303754        NaN                   NaN   \n",
       "124         NaN               2.825713        NaN                   NaN   \n",
       "\n",
       "     SUCCESSFUL_REFERRALS  SUCCESSFUL_REFERRALS_CUMULATIVE  \n",
       "24                    NaN                              1.0  \n",
       "49                    NaN                              NaN  \n",
       "74                    NaN                              0.0  \n",
       "99                    NaN                              NaN  \n",
       "124                   NaN                              NaN  "
      ]
     },
     "execution_count": 16,
     "metadata": {},
     "output_type": "execute_result"
    }
   ],
   "source": [
    "df.head()"
   ]
  },
  {
   "cell_type": "code",
   "execution_count": 17,
   "metadata": {},
   "outputs": [
    {
     "data": {
      "text/html": [
       "<div>\n",
       "<style scoped>\n",
       "    .dataframe tbody tr th:only-of-type {\n",
       "        vertical-align: middle;\n",
       "    }\n",
       "\n",
       "    .dataframe tbody tr th {\n",
       "        vertical-align: top;\n",
       "    }\n",
       "\n",
       "    .dataframe thead th {\n",
       "        text-align: right;\n",
       "    }\n",
       "</style>\n",
       "<table border=\"1\" class=\"dataframe\">\n",
       "  <thead>\n",
       "    <tr style=\"text-align: right;\">\n",
       "      <th></th>\n",
       "      <th>RIDER_ID</th>\n",
       "      <th>LOCATION</th>\n",
       "      <th>APPLICATION_DATE</th>\n",
       "      <th>APPLICATION_APPROVED_DATE</th>\n",
       "      <th>FIRST_WORK_DATE</th>\n",
       "      <th>ACQUISITION_CHANNEL</th>\n",
       "      <th>VEHICLE_TYPE</th>\n",
       "      <th>WEEKS_SINCE_FIRST_WORK</th>\n",
       "      <th>RIDER_ACTIVE</th>\n",
       "      <th>HOURS_WORKED</th>\n",
       "      <th>HOURS_WORKED_CUMULATIVE</th>\n",
       "      <th>ORDERS_DELIVERED</th>\n",
       "      <th>ORDERS_DELIVERED_CUMULATIVE</th>\n",
       "      <th>THROUGHPUT</th>\n",
       "      <th>THROUGHPUT_CUMULATIVE</th>\n",
       "      <th>REFERRALS</th>\n",
       "      <th>REFERRALS_CUMULATIVE</th>\n",
       "      <th>SUCCESSFUL_REFERRALS</th>\n",
       "      <th>SUCCESSFUL_REFERRALS_CUMULATIVE</th>\n",
       "    </tr>\n",
       "  </thead>\n",
       "  <tbody>\n",
       "    <tr>\n",
       "      <td>113424</td>\n",
       "      <td>103762</td>\n",
       "      <td>Roo York</td>\n",
       "      <td>31/03/2017</td>\n",
       "      <td>07/04/2017</td>\n",
       "      <td>08/04/2017</td>\n",
       "      <td>Referral</td>\n",
       "      <td>Scooter / Motorcycle</td>\n",
       "      <td>24</td>\n",
       "      <td>True</td>\n",
       "      <td>19.114722</td>\n",
       "      <td>903.356102</td>\n",
       "      <td>59.0</td>\n",
       "      <td>2259.0</td>\n",
       "      <td>3.086626</td>\n",
       "      <td>2.500675</td>\n",
       "      <td>NaN</td>\n",
       "      <td>NaN</td>\n",
       "      <td>NaN</td>\n",
       "      <td>NaN</td>\n",
       "    </tr>\n",
       "    <tr>\n",
       "      <td>113449</td>\n",
       "      <td>103764</td>\n",
       "      <td>Roo York</td>\n",
       "      <td>20/03/2017</td>\n",
       "      <td>07/04/2017</td>\n",
       "      <td>07/04/2017</td>\n",
       "      <td>Referral</td>\n",
       "      <td>Scooter / Motorcycle</td>\n",
       "      <td>24</td>\n",
       "      <td>False</td>\n",
       "      <td>NaN</td>\n",
       "      <td>216.875004</td>\n",
       "      <td>NaN</td>\n",
       "      <td>321.0</td>\n",
       "      <td>NaN</td>\n",
       "      <td>1.480115</td>\n",
       "      <td>NaN</td>\n",
       "      <td>4.0</td>\n",
       "      <td>NaN</td>\n",
       "      <td>2.0</td>\n",
       "    </tr>\n",
       "    <tr>\n",
       "      <td>113474</td>\n",
       "      <td>103774</td>\n",
       "      <td>Roo York</td>\n",
       "      <td>26/02/2017</td>\n",
       "      <td>07/04/2017</td>\n",
       "      <td>07/04/2017</td>\n",
       "      <td>Organic</td>\n",
       "      <td>Scooter / Motorcycle</td>\n",
       "      <td>24</td>\n",
       "      <td>False</td>\n",
       "      <td>NaN</td>\n",
       "      <td>278.383333</td>\n",
       "      <td>NaN</td>\n",
       "      <td>783.0</td>\n",
       "      <td>NaN</td>\n",
       "      <td>2.812668</td>\n",
       "      <td>NaN</td>\n",
       "      <td>NaN</td>\n",
       "      <td>NaN</td>\n",
       "      <td>NaN</td>\n",
       "    </tr>\n",
       "    <tr>\n",
       "      <td>113499</td>\n",
       "      <td>103775</td>\n",
       "      <td>Roo York</td>\n",
       "      <td>25/03/2017</td>\n",
       "      <td>07/04/2017</td>\n",
       "      <td>07/04/2017</td>\n",
       "      <td>Referral</td>\n",
       "      <td>Scooter / Motorcycle</td>\n",
       "      <td>24</td>\n",
       "      <td>True</td>\n",
       "      <td>23.698056</td>\n",
       "      <td>338.583337</td>\n",
       "      <td>83.0</td>\n",
       "      <td>1107.0</td>\n",
       "      <td>3.502397</td>\n",
       "      <td>3.269505</td>\n",
       "      <td>NaN</td>\n",
       "      <td>5.0</td>\n",
       "      <td>NaN</td>\n",
       "      <td>1.0</td>\n",
       "    </tr>\n",
       "    <tr>\n",
       "      <td>113524</td>\n",
       "      <td>103776</td>\n",
       "      <td>Roo York</td>\n",
       "      <td>28/03/2017</td>\n",
       "      <td>07/04/2017</td>\n",
       "      <td>08/04/2017</td>\n",
       "      <td>Referral</td>\n",
       "      <td>Scooter / Motorcycle</td>\n",
       "      <td>24</td>\n",
       "      <td>False</td>\n",
       "      <td>NaN</td>\n",
       "      <td>285.996666</td>\n",
       "      <td>NaN</td>\n",
       "      <td>644.0</td>\n",
       "      <td>NaN</td>\n",
       "      <td>2.251775</td>\n",
       "      <td>NaN</td>\n",
       "      <td>NaN</td>\n",
       "      <td>NaN</td>\n",
       "      <td>NaN</td>\n",
       "    </tr>\n",
       "  </tbody>\n",
       "</table>\n",
       "</div>"
      ],
      "text/plain": [
       "        RIDER_ID  LOCATION APPLICATION_DATE APPLICATION_APPROVED_DATE  \\\n",
       "113424    103762  Roo York       31/03/2017                07/04/2017   \n",
       "113449    103764  Roo York       20/03/2017                07/04/2017   \n",
       "113474    103774  Roo York       26/02/2017                07/04/2017   \n",
       "113499    103775  Roo York       25/03/2017                07/04/2017   \n",
       "113524    103776  Roo York       28/03/2017                07/04/2017   \n",
       "\n",
       "       FIRST_WORK_DATE ACQUISITION_CHANNEL          VEHICLE_TYPE  \\\n",
       "113424      08/04/2017            Referral  Scooter / Motorcycle   \n",
       "113449      07/04/2017            Referral  Scooter / Motorcycle   \n",
       "113474      07/04/2017             Organic  Scooter / Motorcycle   \n",
       "113499      07/04/2017            Referral  Scooter / Motorcycle   \n",
       "113524      08/04/2017            Referral  Scooter / Motorcycle   \n",
       "\n",
       "        WEEKS_SINCE_FIRST_WORK  RIDER_ACTIVE  HOURS_WORKED  \\\n",
       "113424                      24          True     19.114722   \n",
       "113449                      24         False           NaN   \n",
       "113474                      24         False           NaN   \n",
       "113499                      24          True     23.698056   \n",
       "113524                      24         False           NaN   \n",
       "\n",
       "        HOURS_WORKED_CUMULATIVE  ORDERS_DELIVERED  \\\n",
       "113424               903.356102              59.0   \n",
       "113449               216.875004               NaN   \n",
       "113474               278.383333               NaN   \n",
       "113499               338.583337              83.0   \n",
       "113524               285.996666               NaN   \n",
       "\n",
       "        ORDERS_DELIVERED_CUMULATIVE  THROUGHPUT  THROUGHPUT_CUMULATIVE  \\\n",
       "113424                       2259.0    3.086626               2.500675   \n",
       "113449                        321.0         NaN               1.480115   \n",
       "113474                        783.0         NaN               2.812668   \n",
       "113499                       1107.0    3.502397               3.269505   \n",
       "113524                        644.0         NaN               2.251775   \n",
       "\n",
       "        REFERRALS  REFERRALS_CUMULATIVE  SUCCESSFUL_REFERRALS  \\\n",
       "113424        NaN                   NaN                   NaN   \n",
       "113449        NaN                   4.0                   NaN   \n",
       "113474        NaN                   NaN                   NaN   \n",
       "113499        NaN                   5.0                   NaN   \n",
       "113524        NaN                   NaN                   NaN   \n",
       "\n",
       "        SUCCESSFUL_REFERRALS_CUMULATIVE  \n",
       "113424                              NaN  \n",
       "113449                              2.0  \n",
       "113474                              NaN  \n",
       "113499                              1.0  \n",
       "113524                              NaN  "
      ]
     },
     "execution_count": 17,
     "metadata": {},
     "output_type": "execute_result"
    }
   ],
   "source": [
    "df.tail()"
   ]
  },
  {
   "cell_type": "code",
   "execution_count": 18,
   "metadata": {
    "scrolled": true
   },
   "outputs": [
    {
     "name": "stdout",
     "output_type": "stream",
     "text": [
      "<class 'pandas.core.frame.DataFrame'>\n",
      "Int64Index: 4541 entries, 24 to 113524\n",
      "Data columns (total 19 columns):\n",
      "RIDER_ID                           4541 non-null int64\n",
      "LOCATION                           4541 non-null object\n",
      "APPLICATION_DATE                   4541 non-null object\n",
      "APPLICATION_APPROVED_DATE          4541 non-null object\n",
      "FIRST_WORK_DATE                    4541 non-null object\n",
      "ACQUISITION_CHANNEL                4541 non-null object\n",
      "VEHICLE_TYPE                       4541 non-null object\n",
      "WEEKS_SINCE_FIRST_WORK             4541 non-null int64\n",
      "RIDER_ACTIVE                       4541 non-null bool\n",
      "HOURS_WORKED                       1319 non-null float64\n",
      "HOURS_WORKED_CUMULATIVE            4541 non-null float64\n",
      "ORDERS_DELIVERED                   1223 non-null float64\n",
      "ORDERS_DELIVERED_CUMULATIVE        4464 non-null float64\n",
      "THROUGHPUT                         1223 non-null float64\n",
      "THROUGHPUT_CUMULATIVE              4464 non-null float64\n",
      "REFERRALS                          74 non-null float64\n",
      "REFERRALS_CUMULATIVE               1002 non-null float64\n",
      "SUCCESSFUL_REFERRALS               74 non-null float64\n",
      "SUCCESSFUL_REFERRALS_CUMULATIVE    1002 non-null float64\n",
      "dtypes: bool(1), float64(10), int64(2), object(6)\n",
      "memory usage: 678.5+ KB\n"
     ]
    }
   ],
   "source": [
    "df.info()"
   ]
  },
  {
   "cell_type": "code",
   "execution_count": 19,
   "metadata": {
    "scrolled": true
   },
   "outputs": [
    {
     "data": {
      "text/html": [
       "<div>\n",
       "<style scoped>\n",
       "    .dataframe tbody tr th:only-of-type {\n",
       "        vertical-align: middle;\n",
       "    }\n",
       "\n",
       "    .dataframe tbody tr th {\n",
       "        vertical-align: top;\n",
       "    }\n",
       "\n",
       "    .dataframe thead th {\n",
       "        text-align: right;\n",
       "    }\n",
       "</style>\n",
       "<table border=\"1\" class=\"dataframe\">\n",
       "  <thead>\n",
       "    <tr style=\"text-align: right;\">\n",
       "      <th></th>\n",
       "      <th>RIDER_ID</th>\n",
       "      <th>WEEKS_SINCE_FIRST_WORK</th>\n",
       "      <th>HOURS_WORKED</th>\n",
       "      <th>HOURS_WORKED_CUMULATIVE</th>\n",
       "      <th>ORDERS_DELIVERED</th>\n",
       "      <th>ORDERS_DELIVERED_CUMULATIVE</th>\n",
       "      <th>THROUGHPUT</th>\n",
       "      <th>THROUGHPUT_CUMULATIVE</th>\n",
       "      <th>REFERRALS</th>\n",
       "      <th>REFERRALS_CUMULATIVE</th>\n",
       "      <th>SUCCESSFUL_REFERRALS</th>\n",
       "      <th>SUCCESSFUL_REFERRALS_CUMULATIVE</th>\n",
       "    </tr>\n",
       "  </thead>\n",
       "  <tbody>\n",
       "    <tr>\n",
       "      <td>count</td>\n",
       "      <td>4541.000000</td>\n",
       "      <td>4541.0</td>\n",
       "      <td>1319.000000</td>\n",
       "      <td>4541.000000</td>\n",
       "      <td>1223.000000</td>\n",
       "      <td>4464.000000</td>\n",
       "      <td>1223.000000</td>\n",
       "      <td>4464.000000</td>\n",
       "      <td>74.000000</td>\n",
       "      <td>1002.000000</td>\n",
       "      <td>74.000000</td>\n",
       "      <td>1002.000000</td>\n",
       "    </tr>\n",
       "    <tr>\n",
       "      <td>mean</td>\n",
       "      <td>80873.171989</td>\n",
       "      <td>24.0</td>\n",
       "      <td>19.372840</td>\n",
       "      <td>197.829756</td>\n",
       "      <td>50.528209</td>\n",
       "      <td>440.673835</td>\n",
       "      <td>2.403633</td>\n",
       "      <td>1.990289</td>\n",
       "      <td>1.270270</td>\n",
       "      <td>2.589820</td>\n",
       "      <td>0.310811</td>\n",
       "      <td>0.561876</td>\n",
       "    </tr>\n",
       "    <tr>\n",
       "      <td>std</td>\n",
       "      <td>12799.731993</td>\n",
       "      <td>0.0</td>\n",
       "      <td>16.926589</td>\n",
       "      <td>259.929947</td>\n",
       "      <td>43.825879</td>\n",
       "      <td>621.260672</td>\n",
       "      <td>0.717144</td>\n",
       "      <td>0.667197</td>\n",
       "      <td>2.216361</td>\n",
       "      <td>9.369239</td>\n",
       "      <td>0.547114</td>\n",
       "      <td>1.215396</td>\n",
       "    </tr>\n",
       "    <tr>\n",
       "      <td>min</td>\n",
       "      <td>1864.000000</td>\n",
       "      <td>24.0</td>\n",
       "      <td>0.000000</td>\n",
       "      <td>0.178888</td>\n",
       "      <td>1.000000</td>\n",
       "      <td>1.000000</td>\n",
       "      <td>0.056955</td>\n",
       "      <td>0.025861</td>\n",
       "      <td>0.000000</td>\n",
       "      <td>0.000000</td>\n",
       "      <td>0.000000</td>\n",
       "      <td>0.000000</td>\n",
       "    </tr>\n",
       "    <tr>\n",
       "      <td>25%</td>\n",
       "      <td>70838.000000</td>\n",
       "      <td>24.0</td>\n",
       "      <td>5.693751</td>\n",
       "      <td>29.188333</td>\n",
       "      <td>15.000000</td>\n",
       "      <td>53.000000</td>\n",
       "      <td>1.965016</td>\n",
       "      <td>1.568525</td>\n",
       "      <td>1.000000</td>\n",
       "      <td>1.000000</td>\n",
       "      <td>0.000000</td>\n",
       "      <td>0.000000</td>\n",
       "    </tr>\n",
       "    <tr>\n",
       "      <td>50%</td>\n",
       "      <td>77621.000000</td>\n",
       "      <td>24.0</td>\n",
       "      <td>14.942779</td>\n",
       "      <td>90.675278</td>\n",
       "      <td>38.000000</td>\n",
       "      <td>172.000000</td>\n",
       "      <td>2.440885</td>\n",
       "      <td>2.051430</td>\n",
       "      <td>1.000000</td>\n",
       "      <td>1.000000</td>\n",
       "      <td>0.000000</td>\n",
       "      <td>0.000000</td>\n",
       "    </tr>\n",
       "    <tr>\n",
       "      <td>75%</td>\n",
       "      <td>94220.000000</td>\n",
       "      <td>24.0</td>\n",
       "      <td>30.296527</td>\n",
       "      <td>262.693056</td>\n",
       "      <td>75.000000</td>\n",
       "      <td>573.250000</td>\n",
       "      <td>2.888611</td>\n",
       "      <td>2.461074</td>\n",
       "      <td>1.000000</td>\n",
       "      <td>3.000000</td>\n",
       "      <td>1.000000</td>\n",
       "      <td>1.000000</td>\n",
       "    </tr>\n",
       "    <tr>\n",
       "      <td>max</td>\n",
       "      <td>103776.000000</td>\n",
       "      <td>24.0</td>\n",
       "      <td>89.775555</td>\n",
       "      <td>2075.802227</td>\n",
       "      <td>251.000000</td>\n",
       "      <td>5046.000000</td>\n",
       "      <td>5.396876</td>\n",
       "      <td>5.191057</td>\n",
       "      <td>19.000000</td>\n",
       "      <td>285.000000</td>\n",
       "      <td>2.000000</td>\n",
       "      <td>28.000000</td>\n",
       "    </tr>\n",
       "  </tbody>\n",
       "</table>\n",
       "</div>"
      ],
      "text/plain": [
       "            RIDER_ID  WEEKS_SINCE_FIRST_WORK  HOURS_WORKED  \\\n",
       "count    4541.000000                  4541.0   1319.000000   \n",
       "mean    80873.171989                    24.0     19.372840   \n",
       "std     12799.731993                     0.0     16.926589   \n",
       "min      1864.000000                    24.0      0.000000   \n",
       "25%     70838.000000                    24.0      5.693751   \n",
       "50%     77621.000000                    24.0     14.942779   \n",
       "75%     94220.000000                    24.0     30.296527   \n",
       "max    103776.000000                    24.0     89.775555   \n",
       "\n",
       "       HOURS_WORKED_CUMULATIVE  ORDERS_DELIVERED  ORDERS_DELIVERED_CUMULATIVE  \\\n",
       "count              4541.000000       1223.000000                  4464.000000   \n",
       "mean                197.829756         50.528209                   440.673835   \n",
       "std                 259.929947         43.825879                   621.260672   \n",
       "min                   0.178888          1.000000                     1.000000   \n",
       "25%                  29.188333         15.000000                    53.000000   \n",
       "50%                  90.675278         38.000000                   172.000000   \n",
       "75%                 262.693056         75.000000                   573.250000   \n",
       "max                2075.802227        251.000000                  5046.000000   \n",
       "\n",
       "        THROUGHPUT  THROUGHPUT_CUMULATIVE  REFERRALS  REFERRALS_CUMULATIVE  \\\n",
       "count  1223.000000            4464.000000  74.000000           1002.000000   \n",
       "mean      2.403633               1.990289   1.270270              2.589820   \n",
       "std       0.717144               0.667197   2.216361              9.369239   \n",
       "min       0.056955               0.025861   0.000000              0.000000   \n",
       "25%       1.965016               1.568525   1.000000              1.000000   \n",
       "50%       2.440885               2.051430   1.000000              1.000000   \n",
       "75%       2.888611               2.461074   1.000000              3.000000   \n",
       "max       5.396876               5.191057  19.000000            285.000000   \n",
       "\n",
       "       SUCCESSFUL_REFERRALS  SUCCESSFUL_REFERRALS_CUMULATIVE  \n",
       "count             74.000000                      1002.000000  \n",
       "mean               0.310811                         0.561876  \n",
       "std                0.547114                         1.215396  \n",
       "min                0.000000                         0.000000  \n",
       "25%                0.000000                         0.000000  \n",
       "50%                0.000000                         0.000000  \n",
       "75%                1.000000                         1.000000  \n",
       "max                2.000000                        28.000000  "
      ]
     },
     "execution_count": 19,
     "metadata": {},
     "output_type": "execute_result"
    }
   ],
   "source": [
    "df.describe()"
   ]
  },
  {
   "cell_type": "markdown",
   "metadata": {},
   "source": [
    "The new dataset, `df`, is now only 1/25 of it's original size, containing only the final row for each Rider and their total performance in the recorded metrics. The original dataset is still accessible using the DataFrame `df_raw`.\n",
    "\n",
    "Next we will explore the new DataFrame and plot the key metrics for further analysis."
   ]
  },
  {
   "cell_type": "markdown",
   "metadata": {},
   "source": [
    "<a id='section4'></a>"
   ]
  },
  {
   "cell_type": "markdown",
   "metadata": {},
   "source": [
    "## 4. Exploratory Data Analysis"
   ]
  },
  {
   "cell_type": "markdown",
   "metadata": {},
   "source": [
    "The Exploratory Data Analysis aims to answer the question, **“Is the RGR scheme successful, and if so, how have you reached that conclusion?”**.\n",
    "\n",
    "As per the project brief, I will separate my answer to this section into the following three subsections:\n",
    "*    Defining what success is ([Section 4.1](#section4.1))\n",
    "*    How has RGR performed compared with other channels? ([Section 4.2](#section4.2))\n",
    "*    How does rider performance / behaviour vary between the channels? ([Section 4.3](#section4.3))\n",
    "\n",
    "We will be using the [pandas](http://pandas.pydata.org/) library for DataFrames and the [Seaborn](https://seaborn.pydata.org/) library for plotting."
   ]
  },
  {
   "cell_type": "markdown",
   "metadata": {},
   "source": [
    "<a id='section4.1'></a>"
   ]
  },
  {
   "cell_type": "markdown",
   "metadata": {},
   "source": [
    "### 4.1. Definition of a successful RGR scheme"
   ]
  },
  {
   "cell_type": "markdown",
   "metadata": {},
   "source": [
    "Some gig economy startups can have a turnover of staff as high as 500% per year ([source 1](https://www.businessinsider.com/uber-lyft-drivers-livable-wage-complaints-2019-5?r=US&IR=T)) and ([source 2](https://www.td.org/insights/has-the-gig-economy-jumped-the-shark)). It is therefore important for these companies to focus on recruitment, how it can be done smarter and at less cost.\n",
    "\n",
    "It is difficult to define what success for an RGR scheme would be, I would consider the following three components:\n",
    "*    a system whereby current staff recommend a sufficient number potential employees to the application process,\n",
    "*    of those candidates that apply, a significant percentage meet the standards to be eligible to work for the company, and\n",
    "*    of these potential employees, those that are hired perform go on to meet the required standards and expected commitment to the role.\n",
    "\n",
    "These three requirements are analysed in much further detail in the following sections [4.2](#section4.2) and [4.3](#section4.3).\n",
    "\n",
    "To throw out some rough numbers, if for every two members of staff, one potential employee can be referred and then of those candidates, 1/4 are successful, I would say that is quite a successful recruitment process.\n",
    "\n",
    "Let's take a look at the rough numbers for our dataset:"
   ]
  },
  {
   "cell_type": "code",
   "execution_count": 20,
   "metadata": {},
   "outputs": [
    {
     "name": "stdout",
     "output_type": "stream",
     "text": [
      "Total Riders: 4541\n",
      "Total Referrals: 2595.0\n",
      "Total Successful Referrals: 563.0\n",
      "Rate of Successful Referalls to Referrals (%): 21.7%\n",
      "Rate of Successful Referalls to Riders (%): 12.4%\n"
     ]
    }
   ],
   "source": [
    "total_riders = df['RIDER_ID'].count()\n",
    "total_referrals = df['REFERRALS_CUMULATIVE'].sum()\n",
    "total_successful_referrals = df['SUCCESSFUL_REFERRALS_CUMULATIVE'].sum()\n",
    "\n",
    "print(\"Total Riders: \" + str(total_riders))\n",
    "print(\"Total Referrals: \" + str(total_referrals))\n",
    "print(\"Total Successful Referrals: \" + str(total_successful_referrals))\n",
    "\n",
    "print(\"Rate of Successful Referalls to Referrals (%): \" + str(round((total_successful_referrals/total_referrals * 100),1)) + \"%\")\n",
    "print(\"Rate of Successful Referalls to Riders (%): \" + str(round((total_successful_referrals/total_riders * 100),1)) + \"%\")"
   ]
  },
  {
   "cell_type": "markdown",
   "metadata": {},
   "source": [
    "Looking at the overall dataset, of the 4,531 Riders, 2,595 referrals were made and of these referrals, 563 were successful. That means that for every candidate, 0.573 candidates are referred and 0.124 successful candidates are referred. Of the candidates that are referred, the success rate is about 21.7% i.e. 1 in 5. Looking at these rough numbers, I would suggest that Deliveroo's RGR scheme is extremely productive. We will however dive much deeper into these numbers in the following sections.\n",
    "\n",
    "To make better comments on defining what is a successful RGR scheme, I would like to know what the turnover rate of Riders for Deliveroo and the average length of employment of Riders with the company, for example."
   ]
  },
  {
   "cell_type": "markdown",
   "metadata": {},
   "source": [
    "<a id='section4.2'></a>"
   ]
  },
  {
   "cell_type": "markdown",
   "metadata": {},
   "source": [
    "### 4.2. How has RGR performed compared with other channels?\n",
    "\n",
    "Let's plot the data for Riders by Acquisition Channel to see the volumes of Riders recruited by each different channel. These are:\n",
    "*    Digital\n",
    "*    Job Platforms\n",
    "*    Offline\n",
    "*    Organic\n",
    "*    Referral"
   ]
  },
  {
   "cell_type": "markdown",
   "metadata": {},
   "source": [
    "#### Plot the data"
   ]
  },
  {
   "cell_type": "code",
   "execution_count": 21,
   "metadata": {
    "scrolled": true
   },
   "outputs": [
    {
     "data": {
      "image/png": "[encoded data removed]",
      "text/plain": [
       "<Figure size 576x360 with 1 Axes>"
      ]
     },
     "metadata": {
      "needs_background": "light"
     },
     "output_type": "display_data"
    }
   ],
   "source": [
    "# Set the width and height of the figure\n",
    "plt.figure(figsize=(8,5))\n",
    "\n",
    "# Plot style\n",
    "sns.set_style(\"whitegrid\")\n",
    "\n",
    "# Add title\n",
    "plt.title(\"No. of Riders by Acquisition Channel\")\n",
    "\n",
    "# Bar chart showing \n",
    "sns_plot_4_2 = sns.countplot(df['ACQUISITION_CHANNEL'])\n",
    "\n",
    "# Add labels for axes\n",
    "plt.xlabel(\"Acquisition Channel\")\n",
    "plt.ylabel(\"Frequency\")\n",
    "\n",
    "# Save plot\n",
    "fig_4_2 = sns_plot_4_2.get_figure()\n",
    "fig_4_2.savefig(\"./figures/4_2.png\") "
   ]
  },
  {
   "cell_type": "code",
   "execution_count": 22,
   "metadata": {
    "scrolled": true
   },
   "outputs": [
    {
     "name": "stdout",
     "output_type": "stream",
     "text": [
      "count        4541\n",
      "unique          5\n",
      "top       Organic\n",
      "freq         2190\n",
      "Name: ACQUISITION_CHANNEL, dtype: object\n"
     ]
    }
   ],
   "source": [
    "print(df['ACQUISITION_CHANNEL'].describe())"
   ]
  },
  {
   "cell_type": "code",
   "execution_count": 23,
   "metadata": {
    "scrolled": true
   },
   "outputs": [
    {
     "name": "stdout",
     "output_type": "stream",
     "text": [
      "                     RIDER_ID\n",
      "ACQUISITION_CHANNEL          \n",
      "Digital                   882\n",
      "Job Platforms              77\n",
      "Offline                   242\n",
      "Organic                  2190\n",
      "Referral                 1150\n"
     ]
    }
   ],
   "source": [
    "print(df.groupby('ACQUISITION_CHANNEL')[['RIDER_ID']].count())"
   ]
  },
  {
   "cell_type": "markdown",
   "metadata": {},
   "source": [
    "#### Analysis\n",
    "The data shows that of the 4,541 total Riders in the dataset, 1,150 joined Deliveroo through the Referral channel, making up just over a quarter (25.3%) of the total workforce. This is the second most popular Acquisition Channel after Organic, which makes up 2,190 of the Riders in the dataset (48.2%).\n",
    "\n",
    "The key thing to notice here is that even though the Referral scheme is the second best Acquisition Measure, it is actually the best performing channel in which Deliveroo is actively involved in when driving recruitment. Half of the Riders in the dataset came are said to have come to Deliveroo Organically which presumably means that Deliveroo had no active participation in finding the Riders before their application.\n",
    "\n",
    "When comparing channel to Job Platforms, presumably sites like [LinkedIn](https://uk.linkedin.com), [Indeed](https://www.indeed.co.uk), [Monster](https://www.monster.co.uk), [Reed](https://www.reed.co.uk/) etc., this channel recruited only 77 Riders (1.70% of the Riders in the dataset). The next best Acquisition Channel is Digital, making up a considerable number of the Riders with 882 (19.4% of the dataset). Offline makes up the remaining 242 Riders (5.33%).\n",
    "\n",
    "Considering quarter of the Riders came to Deliveroo through Referrals and it is the best performing active measure, I would say I would say that the RGR scheme is performing very well and is a key component for Deliveroo maintaining its staff and high performance levels regarding the delivery of the food."
   ]
  },
  {
   "cell_type": "markdown",
   "metadata": {},
   "source": [
    "<a id='section4.3'></a>"
   ]
  },
  {
   "cell_type": "markdown",
   "metadata": {},
   "source": [
    "### 4.3. How does Rider performance / behaviour vary between the channels?"
   ]
  },
  {
   "cell_type": "markdown",
   "metadata": {},
   "source": [
    "#### Wrangle the data\n",
    "For this section, before we can make any plots, we need to wrangle the data to a form that's more suited to our needs. We need to take the existing DataFrame of Riders data for the 24th week, `df`, and use the [groupby](https://pandas.pydata.org/pandas-docs/version/0.23/generated/pandas.core.groupby.DataFrameGroupBy.agg.html) and [aggregate](https://pandas.pydata.org/pandas-docs/stable/reference/api/pandas.DataFrame.aggregate.html) methods to create a new DataFrame, `df_channel`, that counts the number of Riders in each channel by unique rider id and the total sum for key performance metrics, defined below.\n",
    "\n",
    "For this exercise, the first performance metrics are: Hours Worked, Cumulative Orders Delivered, Orders Delivered Cumulative, and Cumulative Throughput. We will also next look at Cummulative Referrals, and Cumulative Successful Referrals to see the 'performance' of the Riders regarding the referring new candidates to the business.\n",
    "\n",
    "Using this new DataFrame, we can produce calibrated metrics (discussed further in next steps) taking averages per Rider and use these create plots that determine the performance and behaviour of the Riders by channel.\n",
    "\n",
    "The code for this is as follows:"
   ]
  },
  {
   "cell_type": "code",
   "execution_count": 24,
   "metadata": {
    "scrolled": false
   },
   "outputs": [
    {
     "data": {
      "text/html": [
       "<div>\n",
       "<style scoped>\n",
       "    .dataframe tbody tr th:only-of-type {\n",
       "        vertical-align: middle;\n",
       "    }\n",
       "\n",
       "    .dataframe tbody tr th {\n",
       "        vertical-align: top;\n",
       "    }\n",
       "\n",
       "    .dataframe thead th {\n",
       "        text-align: right;\n",
       "    }\n",
       "</style>\n",
       "<table border=\"1\" class=\"dataframe\">\n",
       "  <thead>\n",
       "    <tr style=\"text-align: right;\">\n",
       "      <th></th>\n",
       "      <th>ACQUISITION_CHANNEL</th>\n",
       "      <th>TOTAL_RIDERS</th>\n",
       "      <th>HOURS_WORKED_CUMULATIVE</th>\n",
       "      <th>ORDERS_DELIVERED_CUMULATIVE</th>\n",
       "      <th>THROUGHPUT_CUMULATIVE</th>\n",
       "      <th>REFERRALS_CUMULATIVE</th>\n",
       "      <th>SUCCESSFUL_REFERRALS_CUMULATIVE</th>\n",
       "    </tr>\n",
       "  </thead>\n",
       "  <tbody>\n",
       "    <tr>\n",
       "      <td>0</td>\n",
       "      <td>Digital</td>\n",
       "      <td>882</td>\n",
       "      <td>140313.938052</td>\n",
       "      <td>292481.0</td>\n",
       "      <td>1625.277691</td>\n",
       "      <td>533.0</td>\n",
       "      <td>75.0</td>\n",
       "    </tr>\n",
       "    <tr>\n",
       "      <td>1</td>\n",
       "      <td>Job Platforms</td>\n",
       "      <td>77</td>\n",
       "      <td>14923.873923</td>\n",
       "      <td>32032.0</td>\n",
       "      <td>139.768841</td>\n",
       "      <td>6.0</td>\n",
       "      <td>3.0</td>\n",
       "    </tr>\n",
       "    <tr>\n",
       "      <td>2</td>\n",
       "      <td>Offline</td>\n",
       "      <td>242</td>\n",
       "      <td>37820.421062</td>\n",
       "      <td>79032.0</td>\n",
       "      <td>434.241888</td>\n",
       "      <td>113.0</td>\n",
       "      <td>17.0</td>\n",
       "    </tr>\n",
       "    <tr>\n",
       "      <td>3</td>\n",
       "      <td>Organic</td>\n",
       "      <td>2190</td>\n",
       "      <td>407886.645300</td>\n",
       "      <td>924513.0</td>\n",
       "      <td>4453.435329</td>\n",
       "      <td>962.0</td>\n",
       "      <td>193.0</td>\n",
       "    </tr>\n",
       "    <tr>\n",
       "      <td>4</td>\n",
       "      <td>Referral</td>\n",
       "      <td>1150</td>\n",
       "      <td>297400.045266</td>\n",
       "      <td>639110.0</td>\n",
       "      <td>2231.928393</td>\n",
       "      <td>981.0</td>\n",
       "      <td>275.0</td>\n",
       "    </tr>\n",
       "  </tbody>\n",
       "</table>\n",
       "</div>"
      ],
      "text/plain": [
       "  ACQUISITION_CHANNEL  TOTAL_RIDERS  HOURS_WORKED_CUMULATIVE  \\\n",
       "0             Digital           882            140313.938052   \n",
       "1       Job Platforms            77             14923.873923   \n",
       "2             Offline           242             37820.421062   \n",
       "3             Organic          2190            407886.645300   \n",
       "4            Referral          1150            297400.045266   \n",
       "\n",
       "   ORDERS_DELIVERED_CUMULATIVE  THROUGHPUT_CUMULATIVE  REFERRALS_CUMULATIVE  \\\n",
       "0                     292481.0            1625.277691                 533.0   \n",
       "1                      32032.0             139.768841                   6.0   \n",
       "2                      79032.0             434.241888                 113.0   \n",
       "3                     924513.0            4453.435329                 962.0   \n",
       "4                     639110.0            2231.928393                 981.0   \n",
       "\n",
       "   SUCCESSFUL_REFERRALS_CUMULATIVE  \n",
       "0                             75.0  \n",
       "1                              3.0  \n",
       "2                             17.0  \n",
       "3                            193.0  \n",
       "4                            275.0  "
      ]
     },
     "execution_count": 24,
     "metadata": {},
     "output_type": "execute_result"
    }
   ],
   "source": [
    "# Created groupedby DataFrame, by channel\n",
    "df_channel = df.groupby(\n",
    "   ['ACQUISITION_CHANNEL']\n",
    ").agg(\n",
    "    {\n",
    "         'RIDER_ID': 'count',                        # the total number of Riders\n",
    "         'HOURS_WORKED_CUMULATIVE': 'sum',           # the sum total of cumulative hours worked\n",
    "         'ORDERS_DELIVERED_CUMULATIVE': 'sum',       # the sum total of cumulative delivered orders\n",
    "         'THROUGHPUT_CUMULATIVE': 'sum',             # the sum total of cumulative throughput\n",
    "         'REFERRALS_CUMULATIVE': 'sum',              # the sum total of cumulative referrals\n",
    "         'SUCCESSFUL_REFERRALS_CUMULATIVE': 'sum'    # the sum total of cumulative successful referrals\n",
    "    }\n",
    ").reset_index()\n",
    "\n",
    "# Rename the RIDER_ID column to TOTAL_RIDERS\n",
    "df_channel = df_channel.rename(columns={'RIDER_ID':'TOTAL_RIDERS'})\n",
    "\n",
    "df_channel"
   ]
  },
  {
   "cell_type": "code",
   "execution_count": 25,
   "metadata": {
    "scrolled": true
   },
   "outputs": [
    {
     "data": {
      "text/plain": [
       "ACQUISITION_CHANNEL                 object\n",
       "TOTAL_RIDERS                         int64\n",
       "HOURS_WORKED_CUMULATIVE            float64\n",
       "ORDERS_DELIVERED_CUMULATIVE        float64\n",
       "THROUGHPUT_CUMULATIVE              float64\n",
       "REFERRALS_CUMULATIVE               float64\n",
       "SUCCESSFUL_REFERRALS_CUMULATIVE    float64\n",
       "dtype: object"
      ]
     },
     "execution_count": 25,
     "metadata": {},
     "output_type": "execute_result"
    }
   ],
   "source": [
    "df_channel.dtypes"
   ]
  },
  {
   "cell_type": "markdown",
   "metadata": {},
   "source": [
    "As previously discussed in [Section 4.2](#section4.2) and again in the grouped table, `df_channel`, we have different numbers of Riders for each of the Acquisition Channels. We will therefore calibrate the metrics in question regarding performance, these being: `HOURS_WORKED_CUMULATIVE`, `ORDERS_DELIVERED_CUMULATIVE`, `THROUGHPUT_CUMULATIVE`, `REFERRALS_CUMULATIVE`, and `SUCCESSFUL_REFERRALS_CUMULATIVE`. These will be calibrated by taken an average per rider i.e. dividing the sum total by the number of Riders. These new metrics can be identified with the suffix '\\_PR' (per rider) e.g. `HOURS_WORKED_CUMULATIVE_PR` is the cumulative hours worked per rider."
   ]
  },
  {
   "cell_type": "code",
   "execution_count": 26,
   "metadata": {},
   "outputs": [],
   "source": [
    "# Create per Rider (PR) columns\n",
    "df_channel['HOURS_WORKED_CUMULATIVE_PR'] = df_channel['HOURS_WORKED_CUMULATIVE'] / df_channel['TOTAL_RIDERS']\n",
    "df_channel['ORDERS_DELIVERED_CUMULATIVE_PR'] = df_channel['ORDERS_DELIVERED_CUMULATIVE'] / df_channel['TOTAL_RIDERS']\n",
    "df_channel['THROUGHPUT_CUMULATIVE_PR'] = df_channel['THROUGHPUT_CUMULATIVE'] / df_channel['TOTAL_RIDERS']\n",
    "df_channel['REFERRALS_CUMULATIVE_PR'] = df_channel['REFERRALS_CUMULATIVE'] / df_channel['TOTAL_RIDERS']\n",
    "df_channel['SUCCESSFUL_REFERRALS_CUMULATIVE_PR'] = df_channel['SUCCESSFUL_REFERRALS_CUMULATIVE'] / df_channel['TOTAL_RIDERS']\n",
    "\n",
    "# Drop unnamed channel (created 2nd index)\n",
    "df_channel = df_channel.loc[:, ~df_channel.columns.str.contains('^Unnamed')]"
   ]
  },
  {
   "cell_type": "code",
   "execution_count": 27,
   "metadata": {
    "scrolled": false
   },
   "outputs": [
    {
     "data": {
      "text/html": [
       "<div>\n",
       "<style scoped>\n",
       "    .dataframe tbody tr th:only-of-type {\n",
       "        vertical-align: middle;\n",
       "    }\n",
       "\n",
       "    .dataframe tbody tr th {\n",
       "        vertical-align: top;\n",
       "    }\n",
       "\n",
       "    .dataframe thead th {\n",
       "        text-align: right;\n",
       "    }\n",
       "</style>\n",
       "<table border=\"1\" class=\"dataframe\">\n",
       "  <thead>\n",
       "    <tr style=\"text-align: right;\">\n",
       "      <th></th>\n",
       "      <th>ACQUISITION_CHANNEL</th>\n",
       "      <th>TOTAL_RIDERS</th>\n",
       "      <th>HOURS_WORKED_CUMULATIVE</th>\n",
       "      <th>ORDERS_DELIVERED_CUMULATIVE</th>\n",
       "      <th>THROUGHPUT_CUMULATIVE</th>\n",
       "      <th>REFERRALS_CUMULATIVE</th>\n",
       "      <th>SUCCESSFUL_REFERRALS_CUMULATIVE</th>\n",
       "      <th>HOURS_WORKED_CUMULATIVE_PR</th>\n",
       "      <th>ORDERS_DELIVERED_CUMULATIVE_PR</th>\n",
       "      <th>THROUGHPUT_CUMULATIVE_PR</th>\n",
       "      <th>REFERRALS_CUMULATIVE_PR</th>\n",
       "      <th>SUCCESSFUL_REFERRALS_CUMULATIVE_PR</th>\n",
       "    </tr>\n",
       "  </thead>\n",
       "  <tbody>\n",
       "    <tr>\n",
       "      <td>0</td>\n",
       "      <td>Digital</td>\n",
       "      <td>882</td>\n",
       "      <td>140313.938052</td>\n",
       "      <td>292481.0</td>\n",
       "      <td>1625.277691</td>\n",
       "      <td>533.0</td>\n",
       "      <td>75.0</td>\n",
       "      <td>159.086098</td>\n",
       "      <td>331.611111</td>\n",
       "      <td>1.842718</td>\n",
       "      <td>0.604308</td>\n",
       "      <td>0.085034</td>\n",
       "    </tr>\n",
       "    <tr>\n",
       "      <td>1</td>\n",
       "      <td>Job Platforms</td>\n",
       "      <td>77</td>\n",
       "      <td>14923.873923</td>\n",
       "      <td>32032.0</td>\n",
       "      <td>139.768841</td>\n",
       "      <td>6.0</td>\n",
       "      <td>3.0</td>\n",
       "      <td>193.816544</td>\n",
       "      <td>416.000000</td>\n",
       "      <td>1.815180</td>\n",
       "      <td>0.077922</td>\n",
       "      <td>0.038961</td>\n",
       "    </tr>\n",
       "    <tr>\n",
       "      <td>2</td>\n",
       "      <td>Offline</td>\n",
       "      <td>242</td>\n",
       "      <td>37820.421062</td>\n",
       "      <td>79032.0</td>\n",
       "      <td>434.241888</td>\n",
       "      <td>113.0</td>\n",
       "      <td>17.0</td>\n",
       "      <td>156.282732</td>\n",
       "      <td>326.578512</td>\n",
       "      <td>1.794388</td>\n",
       "      <td>0.466942</td>\n",
       "      <td>0.070248</td>\n",
       "    </tr>\n",
       "    <tr>\n",
       "      <td>3</td>\n",
       "      <td>Organic</td>\n",
       "      <td>2190</td>\n",
       "      <td>407886.645300</td>\n",
       "      <td>924513.0</td>\n",
       "      <td>4453.435329</td>\n",
       "      <td>962.0</td>\n",
       "      <td>193.0</td>\n",
       "      <td>186.249610</td>\n",
       "      <td>422.152055</td>\n",
       "      <td>2.033532</td>\n",
       "      <td>0.439269</td>\n",
       "      <td>0.088128</td>\n",
       "    </tr>\n",
       "    <tr>\n",
       "      <td>4</td>\n",
       "      <td>Referral</td>\n",
       "      <td>1150</td>\n",
       "      <td>297400.045266</td>\n",
       "      <td>639110.0</td>\n",
       "      <td>2231.928393</td>\n",
       "      <td>981.0</td>\n",
       "      <td>275.0</td>\n",
       "      <td>258.608735</td>\n",
       "      <td>555.747826</td>\n",
       "      <td>1.940807</td>\n",
       "      <td>0.853043</td>\n",
       "      <td>0.239130</td>\n",
       "    </tr>\n",
       "  </tbody>\n",
       "</table>\n",
       "</div>"
      ],
      "text/plain": [
       "  ACQUISITION_CHANNEL  TOTAL_RIDERS  HOURS_WORKED_CUMULATIVE  \\\n",
       "0             Digital           882            140313.938052   \n",
       "1       Job Platforms            77             14923.873923   \n",
       "2             Offline           242             37820.421062   \n",
       "3             Organic          2190            407886.645300   \n",
       "4            Referral          1150            297400.045266   \n",
       "\n",
       "   ORDERS_DELIVERED_CUMULATIVE  THROUGHPUT_CUMULATIVE  REFERRALS_CUMULATIVE  \\\n",
       "0                     292481.0            1625.277691                 533.0   \n",
       "1                      32032.0             139.768841                   6.0   \n",
       "2                      79032.0             434.241888                 113.0   \n",
       "3                     924513.0            4453.435329                 962.0   \n",
       "4                     639110.0            2231.928393                 981.0   \n",
       "\n",
       "   SUCCESSFUL_REFERRALS_CUMULATIVE  HOURS_WORKED_CUMULATIVE_PR  \\\n",
       "0                             75.0                  159.086098   \n",
       "1                              3.0                  193.816544   \n",
       "2                             17.0                  156.282732   \n",
       "3                            193.0                  186.249610   \n",
       "4                            275.0                  258.608735   \n",
       "\n",
       "   ORDERS_DELIVERED_CUMULATIVE_PR  THROUGHPUT_CUMULATIVE_PR  \\\n",
       "0                      331.611111                  1.842718   \n",
       "1                      416.000000                  1.815180   \n",
       "2                      326.578512                  1.794388   \n",
       "3                      422.152055                  2.033532   \n",
       "4                      555.747826                  1.940807   \n",
       "\n",
       "   REFERRALS_CUMULATIVE_PR  SUCCESSFUL_REFERRALS_CUMULATIVE_PR  \n",
       "0                 0.604308                            0.085034  \n",
       "1                 0.077922                            0.038961  \n",
       "2                 0.466942                            0.070248  \n",
       "3                 0.439269                            0.088128  \n",
       "4                 0.853043                            0.239130  "
      ]
     },
     "execution_count": 27,
     "metadata": {},
     "output_type": "execute_result"
    }
   ],
   "source": [
    "df_channel.head()"
   ]
  },
  {
   "cell_type": "markdown",
   "metadata": {},
   "source": [
    "You can now see the new DataFrame with the new per Rider metrics, including `HOURS_WORKED_CUMULATIVE_PR`, `ORDERS_DELIVERED_CUMULATIVE_PR`, `THROUGHPUT_CUMULATIVE_PR`, `REFERRALS_CUMULATIVE_PR`, `SUCCESSFUL_REFERRALS_CUMULATIVE_PR`, and `ORDERS_DELIVERED_PER_HOUR_PR`.\n",
    "\n",
    "Before plotting this data, let's export the grouped and aggregated dataset in case we, or other analysts, would like to use it in future projects/analysis."
   ]
  },
  {
   "cell_type": "code",
   "execution_count": 28,
   "metadata": {
    "scrolled": true
   },
   "outputs": [],
   "source": [
    "df_channel.to_csv(r'./data/rgr_take_home_v3_dataset_grouped.csv')"
   ]
  },
  {
   "cell_type": "markdown",
   "metadata": {},
   "source": [
    "#### Plot the data"
   ]
  },
  {
   "cell_type": "markdown",
   "metadata": {},
   "source": [
    "##### Plot 1: Average No. of Hours Worked per Rider by Acquisition Channel after 24 weeks"
   ]
  },
  {
   "cell_type": "code",
   "execution_count": 29,
   "metadata": {
    "scrolled": true
   },
   "outputs": [
    {
     "data": {
      "image/png": "[encoded data removed]",
      "text/plain": [
       "<Figure size 576x360 with 1 Axes>"
      ]
     },
     "metadata": {},
     "output_type": "display_data"
    }
   ],
   "source": [
    "# Set the width and height of the figure\n",
    "plt.figure(figsize=(8,5))\n",
    "\n",
    "# Plot style\n",
    "sns.set_style(\"whitegrid\")\n",
    "\n",
    "# Add title\n",
    "plt.title(\"Average No. Hours Worked per Rider by Acquisition Channel after 24 weeks\")\n",
    "\n",
    "# Bar chart showing the Average No. Hours Worked per Rider by Acquisition Channel after 24 weeks\n",
    "sns_plot_4_3a = sns.barplot(x=df_channel['ACQUISITION_CHANNEL'], y=df_channel['HOURS_WORKED_CUMULATIVE_PR'])\n",
    "\n",
    "# Add labels for axes\n",
    "plt.xlabel(\"Acquisition Channel\")\n",
    "plt.ylabel(\"Average No. Hours Worked per Rider\")\n",
    "\n",
    "# Save plot\n",
    "fig_4_3a = sns_plot_4_3a.get_figure()\n",
    "fig_4_3a.savefig(\"./figures/4_3a.png\") "
   ]
  },
  {
   "cell_type": "markdown",
   "metadata": {},
   "source": [
    "##### Plot 2: Average No. of Orders Delivered per Rider by Acquisition Channel after 24 weeks"
   ]
  },
  {
   "cell_type": "code",
   "execution_count": 30,
   "metadata": {},
   "outputs": [
    {
     "data": {
      "image/png": "[encoded data removed]",
      "text/plain": [
       "<Figure size 576x360 with 1 Axes>"
      ]
     },
     "metadata": {},
     "output_type": "display_data"
    }
   ],
   "source": [
    "# Set the width and height of the figure\n",
    "plt.figure(figsize=(8,5))\n",
    "\n",
    "# Plot style\n",
    "sns.set_style(\"whitegrid\")\n",
    "\n",
    "# Add title\n",
    "plt.title(\"Average No. of Orders Delivered per Rider by Acquisition Channel after 24 weeks\")\n",
    "\n",
    "# Bar chart showing the Average No. of Orders Delivered per Rider by Acquisition Channel after 24 weeks\n",
    "sns_plot_4_3b = sns.barplot(x=df_channel['ACQUISITION_CHANNEL'], y=df_channel['ORDERS_DELIVERED_CUMULATIVE_PR'])\n",
    "\n",
    "# Add labels for axes\n",
    "plt.xlabel(\"Acquisition Channel\")\n",
    "plt.ylabel(\"Average No. Orders per Rider\")\n",
    "\n",
    "# Save plot\n",
    "fig_4_3b = sns_plot_4_3b.get_figure()\n",
    "fig_4_3b.savefig(\"./figures/4_3b.png\") "
   ]
  },
  {
   "cell_type": "markdown",
   "metadata": {},
   "source": [
    "##### Plot 3: Average Throughput per Rider by Acquisition Channel after 24 weeks"
   ]
  },
  {
   "cell_type": "code",
   "execution_count": 31,
   "metadata": {
    "scrolled": true
   },
   "outputs": [
    {
     "data": {
      "image/png": "[encoded data removed]",
      "text/plain": [
       "<Figure size 576x360 with 1 Axes>"
      ]
     },
     "metadata": {},
     "output_type": "display_data"
    }
   ],
   "source": [
    "# Set the width and height of the figure\n",
    "plt.figure(figsize=(8,5))\n",
    "\n",
    "# Plot style\n",
    "sns.set_style(\"whitegrid\")\n",
    "\n",
    "# Add title\n",
    "plt.title(\"Average Throughput per Rider by Acquisition Channe after 24 weeksl\")\n",
    "\n",
    "# Bar chart showing the Average Throughput per Rider by Acquisition Channel after 24 weeks\n",
    "sns_plot_4_3c = sns.barplot(x=df_channel['ACQUISITION_CHANNEL'], y=df_channel['THROUGHPUT_CUMULATIVE_PR'])\n",
    "\n",
    "# Add labels for axes\n",
    "plt.xlabel(\"Acquisition Channel\")\n",
    "plt.ylabel(\"Average Throughput per Rider\")\n",
    "\n",
    "# Save plot\n",
    "fig_4_3c = sns_plot_4_3c.get_figure()\n",
    "fig_4_3c.savefig(\"./figures/4_3c.png\") "
   ]
  },
  {
   "cell_type": "markdown",
   "metadata": {},
   "source": [
    "##### Plot 4: Average No. of Referrals per Rider by Acquisition Channel after 24 weeks"
   ]
  },
  {
   "cell_type": "code",
   "execution_count": 32,
   "metadata": {},
   "outputs": [
    {
     "data": {
      "image/png": "[encoded data removed]",
      "text/plain": [
       "<Figure size 576x360 with 1 Axes>"
      ]
     },
     "metadata": {},
     "output_type": "display_data"
    }
   ],
   "source": [
    "# Set the width and height of the figure\n",
    "plt.figure(figsize=(8,5))\n",
    "\n",
    "# Plot style\n",
    "sns.set_style(\"whitegrid\")\n",
    "\n",
    "# Add title\n",
    "plt.title(\"Average No. of Referrals per Rider by Acquisition Channel after 24 weeks\")\n",
    "\n",
    "# Bar chart showing the Average No. of Referrals per Rider by Acquisition Channel after 24 weeks\n",
    "sns_plot_4_3d = sns.barplot(x=df_channel['ACQUISITION_CHANNEL'], y=df_channel['REFERRALS_CUMULATIVE_PR'])\n",
    "\n",
    "# Add labels for axes\n",
    "plt.xlabel(\"Acquisition Channel\")\n",
    "plt.ylabel(\"Average No. Referrals per Rider\")\n",
    "\n",
    "# Save plot\n",
    "fig_4_3d = sns_plot_4_3d.get_figure()\n",
    "fig_4_3d.savefig(\"./figures/4_3d.png\") "
   ]
  },
  {
   "cell_type": "markdown",
   "metadata": {},
   "source": [
    "##### Plot 5: Average No. of Successful Referrals per Rider by Acquisition Channel after 24 weeks"
   ]
  },
  {
   "cell_type": "code",
   "execution_count": 33,
   "metadata": {},
   "outputs": [
    {
     "data": {
      "image/png": "[encoded data removed]",
      "text/plain": [
       "<Figure size 576x360 with 1 Axes>"
      ]
     },
     "metadata": {},
     "output_type": "display_data"
    }
   ],
   "source": [
    "# Set the width and height of the figure\n",
    "plt.figure(figsize=(8,5))\n",
    "\n",
    "# Plot style\n",
    "sns.set_style(\"whitegrid\")\n",
    "\n",
    "# Add title\n",
    "plt.title(\"Average No. of Successful Referrals per Rider by Acquisition Channel after 24 weeks\")\n",
    "\n",
    "# Bar chart showing the Average No. of Successful Referrals per Rider by Acquisition Channel after 24 weeks\n",
    "sns_plot_4_3e = sns.barplot(x=df_channel['ACQUISITION_CHANNEL'], y=df_channel['SUCCESSFUL_REFERRALS_CUMULATIVE_PR'])\n",
    "\n",
    "# Add labels for axes\n",
    "plt.xlabel(\"Acquisition Channel\")\n",
    "plt.ylabel(\"Average No. Successful Referrals per Rider\")\n",
    "\n",
    "# Save plot\n",
    "fig_4_3e = sns_plot_4_3e.get_figure()\n",
    "fig_4_3e.savefig(\"./figures/4_3e.png\") "
   ]
  },
  {
   "cell_type": "markdown",
   "metadata": {},
   "source": [
    "#### Analysis\n",
    "All analysis focuses on the Referral Acquisition Channel, comparing this to the other channels. Each of the five previous plots has a written paragraph, interpreting the results.\n",
    "\n",
    "##### Plot 1: Average No. of Hours Worked per Rider by Acquisition Channel\n",
    "For the first plot, the Average No. of Hours Worked per Rider by Acquisition Channel, the data shows that Riders who joined Deliveroo by Referral came out on top, with an average no. of 258.6 total hours worked per Rider after 24 weeks, averaging at 10.8 hours a week. For reference, Riders work on average 15 hours a week in the UK [(source)](https://roocommunity.com/tech-round-up-statistics/). Of the total Hours Worked by all Riders in the dataset, this makes up 27.1% of total Hours Worked, suggesting that the Referral Riders are the hardest working and most committed demographic. The four other platform's share of the total percentage ranges between 16.7% and 20.3%, the next best channel being by Job Platform, with an average hours worked of 193.8 (20.3%).\n",
    "\n",
    "##### Plot 2: Average No. of Orders Delivered per Rider by Acquisition Channel\n",
    "For the second plot, the Average No. of Orders Delivered per Rider by Acquisition Channel, the data shows that Riders who joined Deliveroo by Referral came out on top again, with an average no. of 555.7 orders delivered per Rider after 24 weeks. Of the total Orders Delivered by all Riders in the dataset, this makes up 27.1% of the total Orders Delivered, suggesting that the Referral Riders are the most productive demographic. The four other platform's share of the total percentage ranges between 15.9% and 20.6%, the next best channel being the Organic joiners, with an average Orders Delivered of 422.0 (20.6%).\n",
    "\n",
    "##### Plot 3: Throughput per Rider by Acquisition Channel\n",
    "As a quick reminder before discussing the third plot, the Cumlative Throughput is the cumulative orders per hour (orders / hours) of the Rider.\n",
    "\n",
    "As we can see from the data, the Average Throughput per Rider by Acquisition Channel of Riders who joined Deliveroo by Referral again came out very strongly, overall placing second with an average Throughput per Rider of 2.03. Of the total sum of Throughput per Rider in the dataset, this makes up 20.6%, suggesting that the Referral Riders are the some of the most product Riders and are very efficient in delivering the most orders per hour, as possible. The other platform's share of the total percentage are all very close, ranging between 19.0% (Offline) and 21.6% (Organic).\n",
    "\n",
    "My instinct with this observation is that the Vehicle Type may be a more interesting indicator to use when looking at the Throughput of the Riders. However, I believe it's interesting analysis and has some value being in this report.\n",
    "\n",
    "##### Plot 4: Average No. of Referrals per Rider by Acquisition Channel\n",
    "For the forth plot, the Average No. of Referrals per Rider by Acquisition Channel, the data shows that Riders who joined Deliveroo by Referral came out on top again, with an average no. of 0.853 Referrals per Rider after 24 weeks. Of the total Referrals by all Riders in the dataset, this makes up 34.9% of the total Referrals, suggesting that the Referral Riders are far more likely to Refer new Riders to the company. The four other platform's share of the total percentage ranges between 3.19% (Job Platforms) and 24.8% (Digital).\n",
    "\n",
    "\n",
    "##### Plot 5: Average No. of Successful Referrals per Rider by Acquisition Channel\n",
    "For the fifth plot, the Average No. of Successful Referrals per Rider by Acquisition Channel, the data shows that Riders who joined Deliveroo by Referral continued to observe the previous trends, again leading the channels with an average no. of 0.239 Successful per Rider after 24 weeks. Of the total Successful Referrals by all Riders in the dataset, this makes up 45.9% of the total Successful Referrals, suggesting that not only are the Referral Riders are far more likely to Refer other Riders to the company (as seen in plot 4), but they are also far more likely to refer successful candidates. The four other platform's share of the total percentage ranges between 7.47% (Job Platforms) and 16.9% (Organic)."
   ]
  },
  {
   "cell_type": "markdown",
   "metadata": {},
   "source": [
    "<a id='section5'></a>"
   ]
  },
  {
   "cell_type": "markdown",
   "metadata": {},
   "source": [
    "## 5. Summary and Conclusion"
   ]
  },
  {
   "cell_type": "markdown",
   "metadata": {},
   "source": [
    "To answer the question “Is the RGR scheme successful and why?\" using our limited dataset and restricted time for analysis, I believe that the answer is a resounding Yes! \n",
    "\n",
    "Our analysis was divided into three sections: 1) We defined what a successful RGR scheme is; 2) We looked at how the RGR scheme performed compared with other channels; and 3) We analysed how Rider's performance and behaviour depending on their channel of recruitment.\n",
    "\n",
    "We first looked at the 4,541 Riders and took a high level view to see through which channel they had come through to the company. The data showed that 1,150 employees joined Deliveroo through the Referral channel, making up just over a quarter (25.3%) of the workforce in the dataset, second only to Organic (48.2%), a demographic which is inherently our of Deliveroo's control. This therefore suggests that Referrals is Deliveroo's best active form of recruitment.\n",
    "\n",
    "We next took our DataFrame and calibrated the key performance metrics of the Riders to determine average 'per Rider' values over the 24 week period for: Hours Worked, Orders Delivered, Orders Delivered, Throughput, Referrals, and Successful Referrals. Our plots show that in all but one of the categories, Referred Riders outperform other Riders in regarding these metrics, except for Throughput where Referrals placed second and as discussed in section 4.3, all channels performed quite simularly and I have suspicious that it's the form of transport that would have greater effect on improving this number i.e. using a car and not a bike.\n",
    "\n",
    "To conclude, not only is 'Rider Get Rider' scheme a great way for Deliveroo to find new employees, the data suggests that these employees are some of the most productive, hardest working and efficient Riders in the business. The data also suggests that Riders who joined the business through the Referral scheme are more likely to go on to refer more future Riders and with a greater success rate."
   ]
  },
  {
   "cell_type": "markdown",
   "metadata": {},
   "source": [
    "<a id='section6'></a>"
   ]
  },
  {
   "cell_type": "markdown",
   "metadata": {},
   "source": [
    "## 6. Next Steps\n",
    "\n",
    "This workbook was a short exploratory data analysis for Deliveroo Riders.\n",
    "\n",
    "Some of the metrics and avenues not touched but may be of interest include:\n",
    "*    Further address our definition of success using additional data of Riders including the turnover rate of Rider, the average length of employement of Riders with the company, for example.\n",
    "*    Further analysis of the Rider's `VEHICLE_TYPE`, especially when considering it's effect on `THROUGHPUT` i.e. do car drivers deliver more orders per hours than cyclists.\n",
    "*    Further analysis of the Rider `LOCATION`. We could maybe create a heatmap of Location vs. Aquisition Channel and see the hot spots.\n",
    "*    Further analysis of the Rider's `RIDER_ACTIVITY` i.e. TRUE or FALSE. Does further inspection show any patterns?"
   ]
  },
  {
   "cell_type": "markdown",
   "metadata": {},
   "source": [
    "<a id='section7'></a>"
   ]
  },
  {
   "cell_type": "markdown",
   "metadata": {},
   "source": [
    "## 7. Bibliography\n",
    "1.    [https://www.businessinsider.com/uber-lyft-drivers-livable-wage-complaints-2019-5?r=US&IR=T](https://www.businessinsider.com/uber-lyft-drivers-livable-wage-complaints-2019-5?r=US&IR=T)\n",
    "2.    [https://www.td.org/insights/has-the-gig-economy-jumped-the-shark](https://www.td.org/insights/has-the-gig-economy-jumped-the-shark)\n",
    "3.    [https://roocommunity.com/tech-round-up-statistics/](https://roocommunity.com/tech-round-up-statistics/)"
   ]
  },
  {
   "cell_type": "markdown",
   "metadata": {},
   "source": [
    "***Visit my website [EddWebster.com](https://www.eddwebster.com) or my [GitHub Repository](https://github.com/eddwebster) for more projects. If you'd like to get in contact, my email is: edd.j.webster@gmail.com.***"
   ]
  },
  {
   "cell_type": "markdown",
   "metadata": {},
   "source": [
    "[Back to the top](#top)"
   ]
  }
 ],
 "metadata": {
  "kernelspec": {
   "display_name": "Python 3",
   "language": "python",
   "name": "python3"
  },
  "language_info": {
   "codemirror_mode": {
    "name": "ipython",
    "version": 3
   },
   "file_extension": ".py",
   "mimetype": "text/x-python",
   "name": "python",
   "nbconvert_exporter": "python",
   "pygments_lexer": "ipython3",
   "version": "3.7.4"
  }
 },
 "nbformat": 4,
 "nbformat_minor": 2
}
